{
 "cells": [
  {
   "cell_type": "code",
   "execution_count": 5,
   "id": "split-cache",
   "metadata": {},
   "outputs": [
    {
     "name": "stderr",
     "output_type": "stream",
     "text": [
      "\u001b[32m\u001b[1m  Activating\u001b[22m\u001b[39m environment at `~/Desktop/ForwardDiff_examples/Project.toml`\n"
     ]
    }
   ],
   "source": [
    "# activate environment \n",
    "using Pkg\n",
    "Pkg.activate(@__DIR__);\n",
    "Pkg.instantiate();"
   ]
  },
  {
   "cell_type": "code",
   "execution_count": 6,
   "id": "republican-pointer",
   "metadata": {},
   "outputs": [],
   "source": [
    "using LinearAlgebra, ForwardDiff"
   ]
  },
  {
   "cell_type": "markdown",
   "id": "interracial-abuse",
   "metadata": {},
   "source": [
    "## Basic usage"
   ]
  },
  {
   "cell_type": "code",
   "execution_count": 48,
   "id": "excess-exchange",
   "metadata": {},
   "outputs": [
    {
     "name": "stdout",
     "output_type": "stream",
     "text": [
      "∇foo1 = ForwardDiff.gradient(foo1, x1) = [-0.898379851108036, 0.41843306797905394]\n",
      "∇²foo1 = ForwardDiff.hessian(foo1, x1) = [-0.43921935649866695 0.0; 0.0 -0.9082476356267801]\n",
      "∂foo1_∂x = ForwardDiff.jacobian(foo2, x1) = [0.3878480170333289 0.43921935649866695; 0.9082476356267801 1.1242723747224044]\n"
     ]
    },
    {
     "data": {
      "text/plain": [
       "2×2 Matrix{Float64}:\n",
       " 0.387848  0.439219\n",
       " 0.908248  1.12427"
      ]
     },
     "execution_count": 48,
     "metadata": {},
     "output_type": "execute_result"
    }
   ],
   "source": [
    "function foo1(x)\n",
    "    # vector input, scalar output\n",
    "    return sin(x[1]) + cos(x[2])\n",
    "end\n",
    "function foo2(x)\n",
    "    # vector input, vector output\n",
    "    return [sin(x[1])*x[2];cos(x[2])*x[1]]\n",
    "end\n",
    "\n",
    "# calculate a gradient with forward diff \n",
    "\n",
    "let # we just use this to avoid creating global variables\n",
    "    \n",
    "    # evaluate the gradient and hessian of foo1 at x1 \n",
    "    x1 = 5*randn(2);\n",
    "    @show ∇foo1 = ForwardDiff.gradient(foo1, x1);\n",
    "    @show ∇²foo1 = ForwardDiff.hessian(foo1, x1);\n",
    "    \n",
    "    # evluate the jacobian of foo2 at x1 \n",
    "    @show ∂foo1_∂x = ForwardDiff.jacobian(foo2,x1);\n",
    "    \n",
    "end"
   ]
  },
  {
   "cell_type": "markdown",
   "id": "sustainable-beatles",
   "metadata": {},
   "source": [
    "## Derivatives for functions with multiple input arguments"
   ]
  },
  {
   "cell_type": "code",
   "execution_count": 35,
   "id": "varying-large",
   "metadata": {},
   "outputs": [
    {
     "data": {
      "text/plain": [
       "2×2 Matrix{Float64}:\n",
       " 0.137575   0.0\n",
       " 0.134799  -0.453855"
      ]
     },
     "execution_count": 35,
     "metadata": {},
     "output_type": "execute_result"
    }
   ],
   "source": [
    "# now let's calculate derivatives for functions with multiple inputs \n",
    "function dynamics(x,a,b,c)\n",
    "    return [x[1]*a; b*c*x[2]*x[1]]\n",
    "end\n",
    "\n",
    "let \n",
    "    x1 = randn(2)\n",
    "    a = randn()\n",
    "    b = randn()\n",
    "    c = randn()\n",
    "    \n",
    "    # evaluate the jacobian with respect to x, given a, b, and c\n",
    "    A = ForwardDiff.jacobian(_x -> dynamics(_x, a, b, c), x1)\n",
    "end"
   ]
  },
  {
   "cell_type": "markdown",
   "id": "applicable-crisis",
   "metadata": {},
   "source": [
    "## Derivatives of composite functions"
   ]
  },
  {
   "cell_type": "code",
   "execution_count": 45,
   "id": "central-victorian",
   "metadata": {},
   "outputs": [
    {
     "name": "stdout",
     "output_type": "stream",
     "text": [
      "norm(∇f_1 - ∇f_2) = 0.0\n"
     ]
    },
    {
     "data": {
      "text/plain": [
       "0.0"
      ]
     },
     "execution_count": 45,
     "metadata": {},
     "output_type": "execute_result"
    }
   ],
   "source": [
    "function f(x)\n",
    "    return x[1]*x[2]\n",
    "end\n",
    "function g(x)\n",
    "    return [x[1]^2; x[2]^3]\n",
    "end\n",
    "\n",
    "let \n",
    "    x1 = 2*randn(2)\n",
    "    \n",
    "    # using gradient of the composite function\n",
    "    ∇f_1 = ForwardDiff.gradient(_x -> f(g(_x)), x1)\n",
    "    \n",
    "    # using the chain rule \n",
    "    J = ForwardDiff.jacobian(g, x1)\n",
    "    ∇f_2 = J'*ForwardDiff.gradient(f, g(x1))\n",
    "    \n",
    "    @show norm(∇f_1 - ∇f_2)\n",
    "end"
   ]
  },
  {
   "cell_type": "markdown",
   "id": "solved-warrior",
   "metadata": {},
   "source": [
    "## Creating zero arrays inside a function\n",
    "First we detail the incorrect way to do this"
   ]
  },
  {
   "cell_type": "code",
   "execution_count": 46,
   "id": "verified-kitchen",
   "metadata": {},
   "outputs": [
    {
     "ename": "LoadError",
     "evalue": "MethodError: no method matching Float64(::ForwardDiff.Dual{ForwardDiff.Tag{typeof(f_zero_1), Float64}, Float64, 2})\n\u001b[0mClosest candidates are:\n\u001b[0m  (::Type{T})(::Real, \u001b[91m::RoundingMode\u001b[39m) where T<:AbstractFloat at rounding.jl:200\n\u001b[0m  (::Type{T})(::T) where T<:Number at boot.jl:760\n\u001b[0m  (::Type{T})(\u001b[91m::AbstractChar\u001b[39m) where T<:Union{AbstractChar, Number} at char.jl:50\n\u001b[0m  ...",
     "output_type": "error",
     "traceback": [
      "MethodError: no method matching Float64(::ForwardDiff.Dual{ForwardDiff.Tag{typeof(f_zero_1), Float64}, Float64, 2})\n\u001b[0mClosest candidates are:\n\u001b[0m  (::Type{T})(::Real, \u001b[91m::RoundingMode\u001b[39m) where T<:AbstractFloat at rounding.jl:200\n\u001b[0m  (::Type{T})(::T) where T<:Number at boot.jl:760\n\u001b[0m  (::Type{T})(\u001b[91m::AbstractChar\u001b[39m) where T<:Union{AbstractChar, Number} at char.jl:50\n\u001b[0m  ...",
      "",
      "Stacktrace:",
      "  [1] convert(#unused#::Type{Float64}, x::ForwardDiff.Dual{ForwardDiff.Tag{typeof(f_zero_1), Float64}, Float64, 2})",
      "    @ Base ./number.jl:7",
      "  [2] setindex!(A::Vector{Float64}, x::ForwardDiff.Dual{ForwardDiff.Tag{typeof(f_zero_1), Float64}, Float64, 2}, i1::Int64)",
      "    @ Base ./array.jl:839",
      "  [3] f_zero_1(x::Vector{ForwardDiff.Dual{ForwardDiff.Tag{typeof(f_zero_1), Float64}, Float64, 2}})",
      "    @ Main ./In[46]:4",
      "  [4] vector_mode_dual_eval(f::typeof(f_zero_1), x::Vector{Float64}, cfg::ForwardDiff.JacobianConfig{ForwardDiff.Tag{typeof(f_zero_1), Float64}, Float64, 2, Vector{ForwardDiff.Dual{ForwardDiff.Tag{typeof(f_zero_1), Float64}, Float64, 2}}})",
      "    @ ForwardDiff ~/.julia/packages/ForwardDiff/5gUap/src/apiutils.jl:37",
      "  [5] vector_mode_jacobian(f::typeof(f_zero_1), x::Vector{Float64}, cfg::ForwardDiff.JacobianConfig{ForwardDiff.Tag{typeof(f_zero_1), Float64}, Float64, 2, Vector{ForwardDiff.Dual{ForwardDiff.Tag{typeof(f_zero_1), Float64}, Float64, 2}}})",
      "    @ ForwardDiff ~/.julia/packages/ForwardDiff/5gUap/src/jacobian.jl:147",
      "  [6] jacobian(f::Function, x::Vector{Float64}, cfg::ForwardDiff.JacobianConfig{ForwardDiff.Tag{typeof(f_zero_1), Float64}, Float64, 2, Vector{ForwardDiff.Dual{ForwardDiff.Tag{typeof(f_zero_1), Float64}, Float64, 2}}}, ::Val{true})",
      "    @ ForwardDiff ~/.julia/packages/ForwardDiff/5gUap/src/jacobian.jl:21",
      "  [7] jacobian(f::Function, x::Vector{Float64}, cfg::ForwardDiff.JacobianConfig{ForwardDiff.Tag{typeof(f_zero_1), Float64}, Float64, 2, Vector{ForwardDiff.Dual{ForwardDiff.Tag{typeof(f_zero_1), Float64}, Float64, 2}}}) (repeats 2 times)",
      "    @ ForwardDiff ~/.julia/packages/ForwardDiff/5gUap/src/jacobian.jl:19",
      "  [8] top-level scope",
      "    @ In[46]:12",
      "  [9] eval",
      "    @ ./boot.jl:360 [inlined]",
      " [10] include_string(mapexpr::typeof(REPL.softscope), mod::Module, code::String, filename::String)",
      "    @ Base ./loading.jl:1116"
     ]
    }
   ],
   "source": [
    "function f_zero_1(x)\n",
    "    \n",
    "    # diffing through this function will error on this line \n",
    "    xdot = zeros(length(x))\n",
    "    \n",
    "    xdot[1] = x[1]*x[2]\n",
    "    xdot[2] = x[2]^2\n",
    "    \n",
    "    return xdot \n",
    "end\n",
    "\n",
    "let \n",
    "    # try and calculate the jacobian of f_zero_1 on x1\n",
    "    x1 = randn(2)\n",
    "    ForwardDiff.jacobian(f_zero_1,x1) # this will fail! \n",
    "end"
   ]
  },
  {
   "cell_type": "markdown",
   "id": "revolutionary-arrest",
   "metadata": {},
   "source": [
    "Now we create the zero array correctly"
   ]
  },
  {
   "cell_type": "code",
   "execution_count": 47,
   "id": "controlled-calculation",
   "metadata": {},
   "outputs": [
    {
     "data": {
      "text/plain": [
       "2×2 Matrix{Float64}:\n",
       " -0.643988  -0.61973\n",
       " -0.0       -1.28798"
      ]
     },
     "execution_count": 47,
     "metadata": {},
     "output_type": "execute_result"
    }
   ],
   "source": [
    "function f_zero_2(x)\n",
    "    \n",
    "    # by using `eltype(x)`, we can now diff through this \n",
    "    xdot = zeros(eltype(x), length(x))\n",
    "    \n",
    "    xdot[1] = x[1]*x[2]\n",
    "    xdot[2] = x[2]^2\n",
    "    \n",
    "    return xdot \n",
    "end\n",
    "\n",
    "let \n",
    "    # calculate the jacobian of f_zero_2 on x1\n",
    "    x1 = randn(2)\n",
    "    ForwardDiff.jacobian(f_zero_2,x1) # this will work!\n",
    "end"
   ]
  }
 ],
 "metadata": {
  "kernelspec": {
   "display_name": "Julia 1.6.0",
   "language": "julia",
   "name": "julia-1.6"
  },
  "language_info": {
   "file_extension": ".jl",
   "mimetype": "application/julia",
   "name": "julia",
   "version": "1.6.2"
  }
 },
 "nbformat": 4,
 "nbformat_minor": 5
}
