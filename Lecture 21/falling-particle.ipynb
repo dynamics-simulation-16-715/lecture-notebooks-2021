{
 "cells": [
  {
   "cell_type": "code",
   "execution_count": 1,
   "id": "10f82cd7",
   "metadata": {},
   "outputs": [
    {
     "name": "stderr",
     "output_type": "stream",
     "text": [
      "\u001b[32m\u001b[1m  Activating\u001b[22m\u001b[39m environment at `~/GitHub/dynamics-simulation-16-715/lecture-notebooks/Lecture 21/Project.toml`\n"
     ]
    }
   ],
   "source": [
    "import Pkg; Pkg.activate(@__DIR__); Pkg.instantiate()"
   ]
  },
  {
   "cell_type": "code",
   "execution_count": 26,
   "id": "9181ec76",
   "metadata": {},
   "outputs": [
    {
     "data": {
      "text/plain": [
       "MathOptInterface"
      ]
     },
     "execution_count": 26,
     "metadata": {},
     "output_type": "execute_result"
    }
   ],
   "source": [
    "using LinearAlgebra\n",
    "using ForwardDiff\n",
    "using Plots\n",
    "using Ipopt\n",
    "using MathOptInterface\n",
    "const MOI = MathOptInterface"
   ]
  },
  {
   "cell_type": "code",
   "execution_count": 27,
   "id": "e0966c44",
   "metadata": {},
   "outputs": [
    {
     "data": {
      "text/plain": [
       "31"
      ]
     },
     "execution_count": 27,
     "metadata": {},
     "output_type": "execute_result"
    }
   ],
   "source": [
    "#Parameters\n",
    "g = 9.81\n",
    "m = 1.0\n",
    "h = 0.05 #20 Hz\n",
    "Tf = 1.5 #final time (sec)\n",
    "thist = Array(0:h:Tf)\n",
    "N = length(thist)"
   ]
  },
  {
   "cell_type": "code",
   "execution_count": 28,
   "id": "f4393dfa",
   "metadata": {},
   "outputs": [
    {
     "data": {
      "text/plain": [
       "2-element Vector{Float64}:\n",
       " 0.05\n",
       " 2.9877375"
      ]
     },
     "execution_count": 28,
     "metadata": {},
     "output_type": "execute_result"
    }
   ],
   "source": [
    "#Initial Conditions\n",
    "q0 = [0; 3.0]\n",
    "v0 = [1.0; 0.0]\n",
    "q1 = q0 + h*v0 + 0.5*h*h*[0; -g]"
   ]
  },
  {
   "cell_type": "code",
   "execution_count": 29,
   "id": "a2b611b0",
   "metadata": {},
   "outputs": [
    {
     "data": {
      "text/plain": [
       "1×2 adjoint(::Vector{Float64}) with eltype Float64:\n",
       " 0.0  1.0"
      ]
     },
     "execution_count": 29,
     "metadata": {},
     "output_type": "execute_result"
    }
   ],
   "source": [
    "#Signed-distance function for a particle in 2D\n",
    "function ϕ(q)\n",
    "    return q[2]\n",
    "end\n",
    "\n",
    "Dϕ = [0; 1.0]'"
   ]
  },
  {
   "cell_type": "code",
   "execution_count": 30,
   "id": "07e4eec6",
   "metadata": {},
   "outputs": [
    {
     "data": {
      "text/plain": [
       "D2Ld (generic function with 1 method)"
      ]
     },
     "execution_count": 30,
     "metadata": {},
     "output_type": "execute_result"
    }
   ],
   "source": [
    "#Discrete Lagrangian stuff\n",
    "function L(q,q̇)\n",
    "    0.5*m*q̇'*q̇ - m*g*q[2]\n",
    "end\n",
    "\n",
    "function Ld(q1,q2)\n",
    "    qm = 0.5*(q1 + q2)\n",
    "    vm = (q2-q1)/h\n",
    "    return L(qm,vm)\n",
    "end\n",
    "\n",
    "function D1Ld(q1,q2)\n",
    "    return ForwardDiff.gradient(dq1->Ld(dq1,q2),q1)\n",
    "end\n",
    "\n",
    "function D2Ld(q1,q2)\n",
    "    return ForwardDiff.gradient(dq2->Ld(q1,dq2),q2)\n",
    "end"
   ]
  },
  {
   "cell_type": "code",
   "execution_count": 31,
   "id": "d28aaeb7",
   "metadata": {},
   "outputs": [
    {
     "data": {
      "text/plain": [
       "DEL (generic function with 2 methods)"
      ]
     },
     "execution_count": 31,
     "metadata": {},
     "output_type": "execute_result"
    }
   ],
   "source": [
    "function DEL(q1,q2,q3,n)\n",
    "    D2Ld(q1,q2) + D1Ld(q2,q3) + h*Dϕ'*n\n",
    "end"
   ]
  },
  {
   "cell_type": "code",
   "execution_count": 32,
   "id": "a56748af",
   "metadata": {},
   "outputs": [
    {
     "data": {
      "text/plain": [
       "ipopt_solve (generic function with 1 method)"
      ]
     },
     "execution_count": 32,
     "metadata": {},
     "output_type": "execute_result"
    }
   ],
   "source": [
    "#Boilerplate setup code to interface with IPOPT.\n",
    "\n",
    "struct ProblemMOI <: MOI.AbstractNLPEvaluator\n",
    "    n_nlp::Int\n",
    "    m_nlp::Int\n",
    "    idx_ineq\n",
    "    obj_grad::Bool\n",
    "    con_jac::Bool\n",
    "    sparsity_jac\n",
    "    sparsity_hess\n",
    "    primal_bounds\n",
    "    constraint_bounds\n",
    "    hessian_lagrangian::Bool\n",
    "end\n",
    "\n",
    "function ProblemMOI(n_nlp,m_nlp;\n",
    "        idx_ineq=(1:0),\n",
    "        obj_grad=true,\n",
    "        con_jac=true,\n",
    "        sparsity_jac=sparsity_jacobian(n_nlp,m_nlp),\n",
    "        sparsity_hess=sparsity_hessian(n_nlp,m_nlp),\n",
    "        primal_bounds=primal_bounds(n_nlp),\n",
    "        constraint_bounds=constraint_bounds(m_nlp,idx_ineq=idx_ineq),\n",
    "        hessian_lagrangian=false)\n",
    "\n",
    "    ProblemMOI(n_nlp,m_nlp,\n",
    "        idx_ineq,\n",
    "        obj_grad,\n",
    "        con_jac,\n",
    "        sparsity_jac,\n",
    "        sparsity_hess,\n",
    "        primal_bounds,\n",
    "        constraint_bounds,\n",
    "        hessian_lagrangian)\n",
    "end\n",
    "\n",
    "function constraint_bounds(m; idx_ineq=(1:0))\n",
    "    c_l = zeros(m)\n",
    "\n",
    "    c_u = zeros(m)\n",
    "    c_u[idx_ineq] .= Inf\n",
    "    \n",
    "    return c_l, c_u\n",
    "end\n",
    "\n",
    "function row_col!(row,col,r,c)\n",
    "    for cc in c\n",
    "        for rr in r\n",
    "            push!(row,convert(Int,rr))\n",
    "            push!(col,convert(Int,cc))\n",
    "        end\n",
    "    end\n",
    "    return row, col\n",
    "end\n",
    "\n",
    "function sparsity_jacobian(n,m)\n",
    "\n",
    "    row = []\n",
    "    col = []\n",
    "\n",
    "    r = 1:m\n",
    "    c = 1:n\n",
    "\n",
    "    row_col!(row,col,r,c)\n",
    "\n",
    "    return collect(zip(row,col))\n",
    "end\n",
    "\n",
    "function sparsity_hessian(n,m)\n",
    "\n",
    "    row = []\n",
    "    col = []\n",
    "\n",
    "    r = 1:m\n",
    "    c = 1:n\n",
    "\n",
    "    row_col!(row,col,r,c)\n",
    "\n",
    "    return collect(zip(row,col))\n",
    "end\n",
    "\n",
    "function MOI.eval_objective(prob::MOI.AbstractNLPEvaluator, x)\n",
    "    objective(x)\n",
    "end\n",
    "\n",
    "function MOI.eval_objective_gradient(prob::MOI.AbstractNLPEvaluator, grad_f, x)\n",
    "    ForwardDiff.gradient!(grad_f,objective,x)\n",
    "    return nothing\n",
    "end\n",
    "\n",
    "function MOI.eval_constraint(prob::MOI.AbstractNLPEvaluator,g,x)\n",
    "    constraint!(g,x)\n",
    "    return nothing\n",
    "end\n",
    "\n",
    "function MOI.eval_constraint_jacobian(prob::MOI.AbstractNLPEvaluator, jac, x)\n",
    "    ForwardDiff.jacobian!(reshape(jac,prob.m_nlp,prob.n_nlp), constraint!, zeros(prob.m_nlp), x)\n",
    "    return nothing\n",
    "end\n",
    "\n",
    "function MOI.features_available(prob::MOI.AbstractNLPEvaluator)\n",
    "    return [:Grad, :Jac]\n",
    "end\n",
    "\n",
    "MOI.initialize(prob::MOI.AbstractNLPEvaluator, features) = nothing\n",
    "MOI.jacobian_structure(prob::MOI.AbstractNLPEvaluator) = prob.sparsity_jac\n",
    "\n",
    "function ipopt_solve(x0,prob::MOI.AbstractNLPEvaluator;\n",
    "        tol=1.0e-6,c_tol=1.0e-6,max_iter=10000)\n",
    "    x_l, x_u = prob.primal_bounds\n",
    "    c_l, c_u = prob.constraint_bounds\n",
    "\n",
    "    nlp_bounds = MOI.NLPBoundsPair.(c_l,c_u)\n",
    "    block_data = MOI.NLPBlockData(nlp_bounds,prob,true)\n",
    "\n",
    "    solver = Ipopt.Optimizer()\n",
    "    solver.options[\"max_iter\"] = max_iter\n",
    "    solver.options[\"tol\"] = tol\n",
    "    solver.options[\"constr_viol_tol\"] = c_tol\n",
    "    \n",
    "    #Uncomment the following line to turn off verbose IPOPT output\n",
    "    solver.options[\"print_level\"] = 0\n",
    "\n",
    "    x = MOI.add_variables(solver,prob.n_nlp)\n",
    "\n",
    "    for i = 1:prob.n_nlp\n",
    "        xi = MOI.SingleVariable(x[i])\n",
    "        MOI.add_constraint(solver, xi, MOI.LessThan(x_u[i]))\n",
    "        MOI.add_constraint(solver, xi, MOI.GreaterThan(x_l[i]))\n",
    "        MOI.set(solver, MOI.VariablePrimalStart(), x[i], x0[i])\n",
    "    end\n",
    "\n",
    "    # Solve the problem\n",
    "    MOI.set(solver, MOI.NLPBlock(), block_data)\n",
    "    MOI.set(solver, MOI.ObjectiveSense(), MOI.MIN_SENSE)\n",
    "    MOI.optimize!(solver)\n",
    "\n",
    "    # Get the solution\n",
    "    res = MOI.get(solver, MOI.VariablePrimal(), x)\n",
    "\n",
    "    return res\n",
    "end"
   ]
  },
  {
   "cell_type": "code",
   "execution_count": 33,
   "id": "7c1e7448",
   "metadata": {},
   "outputs": [
    {
     "data": {
      "text/plain": [
       "primal_bounds (generic function with 1 method)"
      ]
     },
     "execution_count": 33,
     "metadata": {},
     "output_type": "execute_result"
    }
   ],
   "source": [
    "#Objective and constraint functions for IPOPT\n",
    "\n",
    "function objective(z)\n",
    "    qn = z[1:2]\n",
    "    n = z[3]\n",
    "    s = z[4]\n",
    "    \n",
    "    return s #Minimize slacks associated with relaxed complementarity condition\n",
    "end\n",
    "\n",
    "function constraint!(c,z)\n",
    "    qn = z[1:2]\n",
    "    n = z[3]\n",
    "    s = z[4]\n",
    "    \n",
    "    c .= [DEL(qhist[:,k-1],qhist[:,k],qn,n); #DEL\n",
    "          ϕ(qn); #signed distance\n",
    "          s-n*ϕ(qn)] #relaxed complementarity\n",
    "    \n",
    "    return nothing\n",
    "end\n",
    "\n",
    "#Specify the indecies of c (constraint output) that should be non-negative.\n",
    "#The rest will be treated as equality constraints.\n",
    "nonnegative_constraint_indices = (3:4)\n",
    "\n",
    "function primal_bounds(n)\n",
    "    #Enforce simple bound constraints on the decision variables (e.g. positivity) here\n",
    "    \n",
    "    x_l = [-Inf*ones(2); zeros(2)]\n",
    "    x_u = Inf*ones(4)\n",
    "    \n",
    "    return x_l, x_u\n",
    "end"
   ]
  },
  {
   "cell_type": "code",
   "execution_count": 34,
   "id": "15a945b1",
   "metadata": {},
   "outputs": [],
   "source": [
    "#Solve with IPOPT\n",
    "n_nlp = 4\n",
    "m_nlp = 4\n",
    "nlp_prob = ProblemMOI(n_nlp,m_nlp, idx_ineq=nonnegative_constraint_indices);\n",
    "\n",
    "#Initial conditions\n",
    "qhist = zeros(2,N)\n",
    "qhist[:,1] .= q0\n",
    "qhist[:,2] .= q1\n",
    "\n",
    "nhist = zeros(N-1)\n",
    "shist = zeros(N-1)\n",
    "k = 0\n",
    "\n",
    "for kk = 2:(N-1)\n",
    "    k = kk\n",
    "    z_guess = [qhist[:,k]; 0; 1.0]\n",
    "    z_sol = ipopt_solve(z_guess,nlp_prob);\n",
    "    qhist[:,k+1] .= z_sol[1:2]\n",
    "    nhist[k] = z_sol[3]\n",
    "    shist[k] = z_sol[4]\n",
    "end"
   ]
  },
  {
   "cell_type": "code",
   "execution_count": 35,
   "id": "8ca8d747",
   "metadata": {},
   "outputs": [
    {
     "data": {
      "image/svg+xml": [
       "<?xml version=\"1.0\" encoding=\"utf-8\"?>\n",
       "<svg xmlns=\"http://www.w3.org/2000/svg\" xmlns:xlink=\"http://www.w3.org/1999/xlink\" width=\"600\" height=\"400\" viewBox=\"0 0 2400 1600\">\n",
       "<defs>\n",
       "  <clipPath id=\"clip430\">\n",
       "    <rect x=\"0\" y=\"0\" width=\"2400\" height=\"1600\"/>\n",
       "  </clipPath>\n",
       "</defs>\n",
       "<path clip-path=\"url(#clip430)\" d=\"\n",
       "M0 1600 L2400 1600 L2400 0 L0 0  Z\n",
       "  \" fill=\"#ffffff\" fill-rule=\"evenodd\" fill-opacity=\"1\"/>\n",
       "<defs>\n",
       "  <clipPath id=\"clip431\">\n",
       "    <rect x=\"480\" y=\"0\" width=\"1681\" height=\"1600\"/>\n",
       "  </clipPath>\n",
       "</defs>\n",
       "<path clip-path=\"url(#clip430)\" d=\"\n",
       "M156.112 1486.45 L2352.76 1486.45 L2352.76 47.2441 L156.112 47.2441  Z\n",
       "  \" fill=\"#ffffff\" fill-rule=\"evenodd\" fill-opacity=\"1\"/>\n",
       "<defs>\n",
       "  <clipPath id=\"clip432\">\n",
       "    <rect x=\"156\" y=\"47\" width=\"2198\" height=\"1440\"/>\n",
       "  </clipPath>\n",
       "</defs>\n",
       "<polyline clip-path=\"url(#clip432)\" style=\"stroke:#000000; stroke-linecap:butt; stroke-linejoin:round; stroke-width:2; stroke-opacity:0.1; fill:none\" points=\"\n",
       "  218.281,1486.45 218.281,47.2441 \n",
       "  \"/>\n",
       "<polyline clip-path=\"url(#clip432)\" style=\"stroke:#000000; stroke-linecap:butt; stroke-linejoin:round; stroke-width:2; stroke-opacity:0.1; fill:none\" points=\"\n",
       "  909.05,1486.45 909.05,47.2441 \n",
       "  \"/>\n",
       "<polyline clip-path=\"url(#clip432)\" style=\"stroke:#000000; stroke-linecap:butt; stroke-linejoin:round; stroke-width:2; stroke-opacity:0.1; fill:none\" points=\"\n",
       "  1599.82,1486.45 1599.82,47.2441 \n",
       "  \"/>\n",
       "<polyline clip-path=\"url(#clip432)\" style=\"stroke:#000000; stroke-linecap:butt; stroke-linejoin:round; stroke-width:2; stroke-opacity:0.1; fill:none\" points=\"\n",
       "  2290.59,1486.45 2290.59,47.2441 \n",
       "  \"/>\n",
       "<polyline clip-path=\"url(#clip430)\" style=\"stroke:#000000; stroke-linecap:butt; stroke-linejoin:round; stroke-width:4; stroke-opacity:1; fill:none\" points=\"\n",
       "  156.112,1486.45 2352.76,1486.45 \n",
       "  \"/>\n",
       "<polyline clip-path=\"url(#clip430)\" style=\"stroke:#000000; stroke-linecap:butt; stroke-linejoin:round; stroke-width:4; stroke-opacity:1; fill:none\" points=\"\n",
       "  218.281,1486.45 218.281,1467.55 \n",
       "  \"/>\n",
       "<polyline clip-path=\"url(#clip430)\" style=\"stroke:#000000; stroke-linecap:butt; stroke-linejoin:round; stroke-width:4; stroke-opacity:1; fill:none\" points=\"\n",
       "  909.05,1486.45 909.05,1467.55 \n",
       "  \"/>\n",
       "<polyline clip-path=\"url(#clip430)\" style=\"stroke:#000000; stroke-linecap:butt; stroke-linejoin:round; stroke-width:4; stroke-opacity:1; fill:none\" points=\"\n",
       "  1599.82,1486.45 1599.82,1467.55 \n",
       "  \"/>\n",
       "<polyline clip-path=\"url(#clip430)\" style=\"stroke:#000000; stroke-linecap:butt; stroke-linejoin:round; stroke-width:4; stroke-opacity:1; fill:none\" points=\"\n",
       "  2290.59,1486.45 2290.59,1467.55 \n",
       "  \"/>\n",
       "<path clip-path=\"url(#clip430)\" d=\"M195.666 1517.37 Q192.055 1517.37 190.226 1520.93 Q188.42 1524.47 188.42 1531.6 Q188.42 1538.71 190.226 1542.27 Q192.055 1545.82 195.666 1545.82 Q199.3 1545.82 201.105 1542.27 Q202.934 1538.71 202.934 1531.6 Q202.934 1524.47 201.105 1520.93 Q199.3 1517.37 195.666 1517.37 M195.666 1513.66 Q201.476 1513.66 204.531 1518.27 Q207.61 1522.85 207.61 1531.6 Q207.61 1540.33 204.531 1544.94 Q201.476 1549.52 195.666 1549.52 Q189.856 1549.52 186.777 1544.94 Q183.721 1540.33 183.721 1531.6 Q183.721 1522.85 186.777 1518.27 Q189.856 1513.66 195.666 1513.66 Z\" fill=\"#000000\" fill-rule=\"evenodd\" fill-opacity=\"1\" /><path clip-path=\"url(#clip430)\" d=\"M215.828 1542.97 L220.712 1542.97 L220.712 1548.85 L215.828 1548.85 L215.828 1542.97 Z\" fill=\"#000000\" fill-rule=\"evenodd\" fill-opacity=\"1\" /><path clip-path=\"url(#clip430)\" d=\"M240.897 1517.37 Q237.286 1517.37 235.457 1520.93 Q233.652 1524.47 233.652 1531.6 Q233.652 1538.71 235.457 1542.27 Q237.286 1545.82 240.897 1545.82 Q244.531 1545.82 246.337 1542.27 Q248.165 1538.71 248.165 1531.6 Q248.165 1524.47 246.337 1520.93 Q244.531 1517.37 240.897 1517.37 M240.897 1513.66 Q246.707 1513.66 249.763 1518.27 Q252.841 1522.85 252.841 1531.6 Q252.841 1540.33 249.763 1544.94 Q246.707 1549.52 240.897 1549.52 Q235.087 1549.52 232.008 1544.94 Q228.953 1540.33 228.953 1531.6 Q228.953 1522.85 232.008 1518.27 Q235.087 1513.66 240.897 1513.66 Z\" fill=\"#000000\" fill-rule=\"evenodd\" fill-opacity=\"1\" /><path clip-path=\"url(#clip430)\" d=\"M886.932 1517.37 Q883.321 1517.37 881.492 1520.93 Q879.687 1524.47 879.687 1531.6 Q879.687 1538.71 881.492 1542.27 Q883.321 1545.82 886.932 1545.82 Q890.566 1545.82 892.372 1542.27 Q894.2 1538.71 894.2 1531.6 Q894.2 1524.47 892.372 1520.93 Q890.566 1517.37 886.932 1517.37 M886.932 1513.66 Q892.742 1513.66 895.798 1518.27 Q898.876 1522.85 898.876 1531.6 Q898.876 1540.33 895.798 1544.94 Q892.742 1549.52 886.932 1549.52 Q881.122 1549.52 878.043 1544.94 Q874.987 1540.33 874.987 1531.6 Q874.987 1522.85 878.043 1518.27 Q881.122 1513.66 886.932 1513.66 Z\" fill=\"#000000\" fill-rule=\"evenodd\" fill-opacity=\"1\" /><path clip-path=\"url(#clip430)\" d=\"M907.094 1542.97 L911.978 1542.97 L911.978 1548.85 L907.094 1548.85 L907.094 1542.97 Z\" fill=\"#000000\" fill-rule=\"evenodd\" fill-opacity=\"1\" /><path clip-path=\"url(#clip430)\" d=\"M922.209 1514.29 L940.566 1514.29 L940.566 1518.22 L926.492 1518.22 L926.492 1526.7 Q927.51 1526.35 928.529 1526.19 Q929.547 1526 930.566 1526 Q936.353 1526 939.732 1529.17 Q943.112 1532.34 943.112 1537.76 Q943.112 1543.34 939.64 1546.44 Q936.168 1549.52 929.848 1549.52 Q927.672 1549.52 925.404 1549.15 Q923.158 1548.78 920.751 1548.04 L920.751 1543.34 Q922.834 1544.47 925.057 1545.03 Q927.279 1545.58 929.756 1545.58 Q933.76 1545.58 936.098 1543.48 Q938.436 1541.37 938.436 1537.76 Q938.436 1534.15 936.098 1532.04 Q933.76 1529.94 929.756 1529.94 Q927.881 1529.94 926.006 1530.35 Q924.154 1530.77 922.209 1531.65 L922.209 1514.29 Z\" fill=\"#000000\" fill-rule=\"evenodd\" fill-opacity=\"1\" /><path clip-path=\"url(#clip430)\" d=\"M1566.97 1544.91 L1574.61 1544.91 L1574.61 1518.55 L1566.3 1520.21 L1566.3 1515.95 L1574.56 1514.29 L1579.24 1514.29 L1579.24 1544.91 L1586.88 1544.91 L1586.88 1548.85 L1566.97 1548.85 L1566.97 1544.91 Z\" fill=\"#000000\" fill-rule=\"evenodd\" fill-opacity=\"1\" /><path clip-path=\"url(#clip430)\" d=\"M1596.32 1542.97 L1601.21 1542.97 L1601.21 1548.85 L1596.32 1548.85 L1596.32 1542.97 Z\" fill=\"#000000\" fill-rule=\"evenodd\" fill-opacity=\"1\" /><path clip-path=\"url(#clip430)\" d=\"M1621.39 1517.37 Q1617.78 1517.37 1615.95 1520.93 Q1614.15 1524.47 1614.15 1531.6 Q1614.15 1538.71 1615.95 1542.27 Q1617.78 1545.82 1621.39 1545.82 Q1625.03 1545.82 1626.83 1542.27 Q1628.66 1538.71 1628.66 1531.6 Q1628.66 1524.47 1626.83 1520.93 Q1625.03 1517.37 1621.39 1517.37 M1621.39 1513.66 Q1627.2 1513.66 1630.26 1518.27 Q1633.34 1522.85 1633.34 1531.6 Q1633.34 1540.33 1630.26 1544.94 Q1627.2 1549.52 1621.39 1549.52 Q1615.58 1549.52 1612.5 1544.94 Q1609.45 1540.33 1609.45 1531.6 Q1609.45 1522.85 1612.5 1518.27 Q1615.58 1513.66 1621.39 1513.66 Z\" fill=\"#000000\" fill-rule=\"evenodd\" fill-opacity=\"1\" /><path clip-path=\"url(#clip430)\" d=\"M2258.24 1544.91 L2265.88 1544.91 L2265.88 1518.55 L2257.57 1520.21 L2257.57 1515.95 L2265.83 1514.29 L2270.51 1514.29 L2270.51 1544.91 L2278.14 1544.91 L2278.14 1548.85 L2258.24 1548.85 L2258.24 1544.91 Z\" fill=\"#000000\" fill-rule=\"evenodd\" fill-opacity=\"1\" /><path clip-path=\"url(#clip430)\" d=\"M2287.59 1542.97 L2292.47 1542.97 L2292.47 1548.85 L2287.59 1548.85 L2287.59 1542.97 Z\" fill=\"#000000\" fill-rule=\"evenodd\" fill-opacity=\"1\" /><path clip-path=\"url(#clip430)\" d=\"M2302.7 1514.29 L2321.06 1514.29 L2321.06 1518.22 L2306.99 1518.22 L2306.99 1526.7 Q2308.01 1526.35 2309.02 1526.19 Q2310.04 1526 2311.06 1526 Q2316.85 1526 2320.23 1529.17 Q2323.61 1532.34 2323.61 1537.76 Q2323.61 1543.34 2320.14 1546.44 Q2316.66 1549.52 2310.34 1549.52 Q2308.17 1549.52 2305.9 1549.15 Q2303.65 1548.78 2301.25 1548.04 L2301.25 1543.34 Q2303.33 1544.47 2305.55 1545.03 Q2307.77 1545.58 2310.25 1545.58 Q2314.26 1545.58 2316.59 1543.48 Q2318.93 1541.37 2318.93 1537.76 Q2318.93 1534.15 2316.59 1532.04 Q2314.26 1529.94 2310.25 1529.94 Q2308.38 1529.94 2306.5 1530.35 Q2304.65 1530.77 2302.7 1531.65 L2302.7 1514.29 Z\" fill=\"#000000\" fill-rule=\"evenodd\" fill-opacity=\"1\" /><polyline clip-path=\"url(#clip432)\" style=\"stroke:#000000; stroke-linecap:butt; stroke-linejoin:round; stroke-width:2; stroke-opacity:0.1; fill:none\" points=\"\n",
       "  156.112,1445.72 2352.76,1445.72 \n",
       "  \"/>\n",
       "<polyline clip-path=\"url(#clip432)\" style=\"stroke:#000000; stroke-linecap:butt; stroke-linejoin:round; stroke-width:2; stroke-opacity:0.1; fill:none\" points=\"\n",
       "  156.112,993.136 2352.76,993.136 \n",
       "  \"/>\n",
       "<polyline clip-path=\"url(#clip432)\" style=\"stroke:#000000; stroke-linecap:butt; stroke-linejoin:round; stroke-width:2; stroke-opacity:0.1; fill:none\" points=\"\n",
       "  156.112,540.556 2352.76,540.556 \n",
       "  \"/>\n",
       "<polyline clip-path=\"url(#clip432)\" style=\"stroke:#000000; stroke-linecap:butt; stroke-linejoin:round; stroke-width:2; stroke-opacity:0.1; fill:none\" points=\"\n",
       "  156.112,87.9763 2352.76,87.9763 \n",
       "  \"/>\n",
       "<polyline clip-path=\"url(#clip430)\" style=\"stroke:#000000; stroke-linecap:butt; stroke-linejoin:round; stroke-width:4; stroke-opacity:1; fill:none\" points=\"\n",
       "  156.112,1486.45 156.112,47.2441 \n",
       "  \"/>\n",
       "<polyline clip-path=\"url(#clip430)\" style=\"stroke:#000000; stroke-linecap:butt; stroke-linejoin:round; stroke-width:4; stroke-opacity:1; fill:none\" points=\"\n",
       "  156.112,1445.72 175.01,1445.72 \n",
       "  \"/>\n",
       "<polyline clip-path=\"url(#clip430)\" style=\"stroke:#000000; stroke-linecap:butt; stroke-linejoin:round; stroke-width:4; stroke-opacity:1; fill:none\" points=\"\n",
       "  156.112,993.136 175.01,993.136 \n",
       "  \"/>\n",
       "<polyline clip-path=\"url(#clip430)\" style=\"stroke:#000000; stroke-linecap:butt; stroke-linejoin:round; stroke-width:4; stroke-opacity:1; fill:none\" points=\"\n",
       "  156.112,540.556 175.01,540.556 \n",
       "  \"/>\n",
       "<polyline clip-path=\"url(#clip430)\" style=\"stroke:#000000; stroke-linecap:butt; stroke-linejoin:round; stroke-width:4; stroke-opacity:1; fill:none\" points=\"\n",
       "  156.112,87.9763 175.01,87.9763 \n",
       "  \"/>\n",
       "<path clip-path=\"url(#clip430)\" d=\"M62.9365 1431.51 Q59.3254 1431.51 57.4967 1435.08 Q55.6912 1438.62 55.6912 1445.75 Q55.6912 1452.86 57.4967 1456.42 Q59.3254 1459.96 62.9365 1459.96 Q66.5707 1459.96 68.3763 1456.42 Q70.205 1452.86 70.205 1445.75 Q70.205 1438.62 68.3763 1435.08 Q66.5707 1431.51 62.9365 1431.51 M62.9365 1427.81 Q68.7467 1427.81 71.8022 1432.42 Q74.8809 1437 74.8809 1445.75 Q74.8809 1454.48 71.8022 1459.08 Q68.7467 1463.67 62.9365 1463.67 Q57.1264 1463.67 54.0477 1459.08 Q50.9921 1454.48 50.9921 1445.75 Q50.9921 1437 54.0477 1432.42 Q57.1264 1427.81 62.9365 1427.81 Z\" fill=\"#000000\" fill-rule=\"evenodd\" fill-opacity=\"1\" /><path clip-path=\"url(#clip430)\" d=\"M83.0984 1457.12 L87.9827 1457.12 L87.9827 1463 L83.0984 1463 L83.0984 1457.12 Z\" fill=\"#000000\" fill-rule=\"evenodd\" fill-opacity=\"1\" /><path clip-path=\"url(#clip430)\" d=\"M108.168 1431.51 Q104.557 1431.51 102.728 1435.08 Q100.922 1438.62 100.922 1445.75 Q100.922 1452.86 102.728 1456.42 Q104.557 1459.96 108.168 1459.96 Q111.802 1459.96 113.608 1456.42 Q115.436 1452.86 115.436 1445.75 Q115.436 1438.62 113.608 1435.08 Q111.802 1431.51 108.168 1431.51 M108.168 1427.81 Q113.978 1427.81 117.033 1432.42 Q120.112 1437 120.112 1445.75 Q120.112 1454.48 117.033 1459.08 Q113.978 1463.67 108.168 1463.67 Q102.358 1463.67 99.2789 1459.08 Q96.2234 1454.48 96.2234 1445.75 Q96.2234 1437 99.2789 1432.42 Q102.358 1427.81 108.168 1427.81 Z\" fill=\"#000000\" fill-rule=\"evenodd\" fill-opacity=\"1\" /><path clip-path=\"url(#clip430)\" d=\"M63.9319 978.935 Q60.3208 978.935 58.4921 982.499 Q56.6865 986.041 56.6865 993.171 Q56.6865 1000.28 58.4921 1003.84 Q60.3208 1007.38 63.9319 1007.38 Q67.5661 1007.38 69.3717 1003.84 Q71.2004 1000.28 71.2004 993.171 Q71.2004 986.041 69.3717 982.499 Q67.5661 978.935 63.9319 978.935 M63.9319 975.231 Q69.742 975.231 72.7976 979.837 Q75.8763 984.421 75.8763 993.171 Q75.8763 1001.9 72.7976 1006.5 Q69.742 1011.09 63.9319 1011.09 Q58.1217 1011.09 55.043 1006.5 Q51.9875 1001.9 51.9875 993.171 Q51.9875 984.421 55.043 979.837 Q58.1217 975.231 63.9319 975.231 Z\" fill=\"#000000\" fill-rule=\"evenodd\" fill-opacity=\"1\" /><path clip-path=\"url(#clip430)\" d=\"M84.0938 1004.54 L88.978 1004.54 L88.978 1010.42 L84.0938 1010.42 L84.0938 1004.54 Z\" fill=\"#000000\" fill-rule=\"evenodd\" fill-opacity=\"1\" /><path clip-path=\"url(#clip430)\" d=\"M99.2095 975.856 L117.566 975.856 L117.566 979.791 L103.492 979.791 L103.492 988.263 Q104.51 987.916 105.529 987.754 Q106.547 987.569 107.566 987.569 Q113.353 987.569 116.733 990.74 Q120.112 993.911 120.112 999.328 Q120.112 1004.91 116.64 1008.01 Q113.168 1011.09 106.848 1011.09 Q104.672 1011.09 102.404 1010.72 Q100.159 1010.35 97.7511 1009.61 L97.7511 1004.91 Q99.8345 1006.04 102.057 1006.6 Q104.279 1007.15 106.756 1007.15 Q110.76 1007.15 113.098 1005.05 Q115.436 1002.94 115.436 999.328 Q115.436 995.717 113.098 993.61 Q110.76 991.504 106.756 991.504 Q104.881 991.504 103.006 991.921 Q101.154 992.337 99.2095 993.217 L99.2095 975.856 Z\" fill=\"#000000\" fill-rule=\"evenodd\" fill-opacity=\"1\" /><path clip-path=\"url(#clip430)\" d=\"M53.7467 553.901 L61.3856 553.901 L61.3856 527.535 L53.0754 529.202 L53.0754 524.943 L61.3393 523.276 L66.0152 523.276 L66.0152 553.901 L73.654 553.901 L73.654 557.836 L53.7467 557.836 L53.7467 553.901 Z\" fill=\"#000000\" fill-rule=\"evenodd\" fill-opacity=\"1\" /><path clip-path=\"url(#clip430)\" d=\"M83.0984 551.956 L87.9827 551.956 L87.9827 557.836 L83.0984 557.836 L83.0984 551.956 Z\" fill=\"#000000\" fill-rule=\"evenodd\" fill-opacity=\"1\" /><path clip-path=\"url(#clip430)\" d=\"M108.168 526.355 Q104.557 526.355 102.728 529.92 Q100.922 533.461 100.922 540.591 Q100.922 547.697 102.728 551.262 Q104.557 554.804 108.168 554.804 Q111.802 554.804 113.608 551.262 Q115.436 547.697 115.436 540.591 Q115.436 533.461 113.608 529.92 Q111.802 526.355 108.168 526.355 M108.168 522.651 Q113.978 522.651 117.033 527.258 Q120.112 531.841 120.112 540.591 Q120.112 549.318 117.033 553.924 Q113.978 558.507 108.168 558.507 Q102.358 558.507 99.2789 553.924 Q96.2234 549.318 96.2234 540.591 Q96.2234 531.841 99.2789 527.258 Q102.358 522.651 108.168 522.651 Z\" fill=\"#000000\" fill-rule=\"evenodd\" fill-opacity=\"1\" /><path clip-path=\"url(#clip430)\" d=\"M54.7421 101.321 L62.381 101.321 L62.381 74.9555 L54.0708 76.6222 L54.0708 72.3629 L62.3347 70.6963 L67.0106 70.6963 L67.0106 101.321 L74.6494 101.321 L74.6494 105.256 L54.7421 105.256 L54.7421 101.321 Z\" fill=\"#000000\" fill-rule=\"evenodd\" fill-opacity=\"1\" /><path clip-path=\"url(#clip430)\" d=\"M84.0938 99.3767 L88.978 99.3767 L88.978 105.256 L84.0938 105.256 L84.0938 99.3767 Z\" fill=\"#000000\" fill-rule=\"evenodd\" fill-opacity=\"1\" /><path clip-path=\"url(#clip430)\" d=\"M99.2095 70.6963 L117.566 70.6963 L117.566 74.6314 L103.492 74.6314 L103.492 83.1036 Q104.51 82.7564 105.529 82.5944 Q106.547 82.4092 107.566 82.4092 Q113.353 82.4092 116.733 85.5805 Q120.112 88.7517 120.112 94.1684 Q120.112 99.747 116.64 102.849 Q113.168 105.928 106.848 105.928 Q104.672 105.928 102.404 105.557 Q100.159 105.187 97.7511 104.446 L97.7511 99.747 Q99.8345 100.881 102.057 101.437 Q104.279 101.992 106.756 101.992 Q110.76 101.992 113.098 99.8859 Q115.436 97.7795 115.436 94.1684 Q115.436 90.5573 113.098 88.4508 Q110.76 86.3443 106.756 86.3443 Q104.881 86.3443 103.006 86.761 Q101.154 87.1777 99.2095 88.0573 L99.2095 70.6963 Z\" fill=\"#000000\" fill-rule=\"evenodd\" fill-opacity=\"1\" /><polyline clip-path=\"url(#clip432)\" style=\"stroke:#009af9; stroke-linecap:butt; stroke-linejoin:round; stroke-width:4; stroke-opacity:1; fill:none\" points=\"\n",
       "  218.281,1445.72 287.358,1400.46 356.435,1355.2 425.512,1309.94 494.589,1264.68 563.666,1219.43 632.742,1174.17 701.819,1128.91 770.896,1083.65 839.973,1038.39 \n",
       "  909.05,993.136 978.127,947.878 1047.2,902.62 1116.28,857.362 1185.36,812.104 1254.43,766.846 1323.51,721.588 1392.59,676.33 1461.66,631.072 1530.74,585.814 \n",
       "  1599.82,540.556 1668.9,495.298 1737.97,450.04 1807.05,404.782 1876.13,359.524 1945.2,314.266 2014.28,269.008 2083.36,223.75 2152.43,178.492 2221.51,133.234 \n",
       "  2290.59,87.9763 \n",
       "  \"/>\n",
       "<path clip-path=\"url(#clip430)\" d=\"\n",
       "M1983.03 198.898 L2279.53 198.898 L2279.53 95.2176 L1983.03 95.2176  Z\n",
       "  \" fill=\"#ffffff\" fill-rule=\"evenodd\" fill-opacity=\"1\"/>\n",
       "<polyline clip-path=\"url(#clip430)\" style=\"stroke:#000000; stroke-linecap:butt; stroke-linejoin:round; stroke-width:4; stroke-opacity:1; fill:none\" points=\"\n",
       "  1983.03,198.898 2279.53,198.898 2279.53,95.2176 1983.03,95.2176 1983.03,198.898 \n",
       "  \"/>\n",
       "<polyline clip-path=\"url(#clip430)\" style=\"stroke:#009af9; stroke-linecap:butt; stroke-linejoin:round; stroke-width:4; stroke-opacity:1; fill:none\" points=\"\n",
       "  2007.44,147.058 2153.88,147.058 \n",
       "  \"/>\n",
       "<path clip-path=\"url(#clip430)\" d=\"M2192.13 166.745 Q2190.33 171.375 2188.61 172.787 Q2186.9 174.199 2184.03 174.199 L2180.63 174.199 L2180.63 170.634 L2183.13 170.634 Q2184.89 170.634 2185.86 169.8 Q2186.83 168.967 2188.01 165.865 L2188.78 163.921 L2178.29 138.412 L2182.8 138.412 L2190.91 158.689 L2199.01 138.412 L2203.52 138.412 L2192.13 166.745 Z\" fill=\"#000000\" fill-rule=\"evenodd\" fill-opacity=\"1\" /><path clip-path=\"url(#clip430)\" d=\"M2210.81 160.402 L2218.45 160.402 L2218.45 134.037 L2210.14 135.703 L2210.14 131.444 L2218.41 129.778 L2223.08 129.778 L2223.08 160.402 L2230.72 160.402 L2230.72 164.338 L2210.81 164.338 L2210.81 160.402 Z\" fill=\"#000000\" fill-rule=\"evenodd\" fill-opacity=\"1\" /></svg>\n"
      ]
     },
     "execution_count": 35,
     "metadata": {},
     "output_type": "execute_result"
    }
   ],
   "source": [
    "plot(thist,qhist[1,:])"
   ]
  },
  {
   "cell_type": "code",
   "execution_count": 36,
   "id": "77130676",
   "metadata": {},
   "outputs": [
    {
     "data": {
      "image/svg+xml": [
       "<?xml version=\"1.0\" encoding=\"utf-8\"?>\n",
       "<svg xmlns=\"http://www.w3.org/2000/svg\" xmlns:xlink=\"http://www.w3.org/1999/xlink\" width=\"600\" height=\"400\" viewBox=\"0 0 2400 1600\">\n",
       "<defs>\n",
       "  <clipPath id=\"clip470\">\n",
       "    <rect x=\"0\" y=\"0\" width=\"2400\" height=\"1600\"/>\n",
       "  </clipPath>\n",
       "</defs>\n",
       "<path clip-path=\"url(#clip470)\" d=\"\n",
       "M0 1600 L2400 1600 L2400 0 L0 0  Z\n",
       "  \" fill=\"#ffffff\" fill-rule=\"evenodd\" fill-opacity=\"1\"/>\n",
       "<defs>\n",
       "  <clipPath id=\"clip471\">\n",
       "    <rect x=\"480\" y=\"0\" width=\"1681\" height=\"1600\"/>\n",
       "  </clipPath>\n",
       "</defs>\n",
       "<path clip-path=\"url(#clip470)\" d=\"\n",
       "M110.881 1486.45 L2352.76 1486.45 L2352.76 47.2441 L110.881 47.2441  Z\n",
       "  \" fill=\"#ffffff\" fill-rule=\"evenodd\" fill-opacity=\"1\"/>\n",
       "<defs>\n",
       "  <clipPath id=\"clip472\">\n",
       "    <rect x=\"110\" y=\"47\" width=\"2243\" height=\"1440\"/>\n",
       "  </clipPath>\n",
       "</defs>\n",
       "<polyline clip-path=\"url(#clip472)\" style=\"stroke:#000000; stroke-linecap:butt; stroke-linejoin:round; stroke-width:2; stroke-opacity:0.1; fill:none\" points=\"\n",
       "  174.33,1486.45 174.33,47.2441 \n",
       "  \"/>\n",
       "<polyline clip-path=\"url(#clip472)\" style=\"stroke:#000000; stroke-linecap:butt; stroke-linejoin:round; stroke-width:2; stroke-opacity:0.1; fill:none\" points=\"\n",
       "  879.322,1486.45 879.322,47.2441 \n",
       "  \"/>\n",
       "<polyline clip-path=\"url(#clip472)\" style=\"stroke:#000000; stroke-linecap:butt; stroke-linejoin:round; stroke-width:2; stroke-opacity:0.1; fill:none\" points=\"\n",
       "  1584.31,1486.45 1584.31,47.2441 \n",
       "  \"/>\n",
       "<polyline clip-path=\"url(#clip472)\" style=\"stroke:#000000; stroke-linecap:butt; stroke-linejoin:round; stroke-width:2; stroke-opacity:0.1; fill:none\" points=\"\n",
       "  2289.31,1486.45 2289.31,47.2441 \n",
       "  \"/>\n",
       "<polyline clip-path=\"url(#clip470)\" style=\"stroke:#000000; stroke-linecap:butt; stroke-linejoin:round; stroke-width:4; stroke-opacity:1; fill:none\" points=\"\n",
       "  110.881,1486.45 2352.76,1486.45 \n",
       "  \"/>\n",
       "<polyline clip-path=\"url(#clip470)\" style=\"stroke:#000000; stroke-linecap:butt; stroke-linejoin:round; stroke-width:4; stroke-opacity:1; fill:none\" points=\"\n",
       "  174.33,1486.45 174.33,1467.55 \n",
       "  \"/>\n",
       "<polyline clip-path=\"url(#clip470)\" style=\"stroke:#000000; stroke-linecap:butt; stroke-linejoin:round; stroke-width:4; stroke-opacity:1; fill:none\" points=\"\n",
       "  879.322,1486.45 879.322,1467.55 \n",
       "  \"/>\n",
       "<polyline clip-path=\"url(#clip470)\" style=\"stroke:#000000; stroke-linecap:butt; stroke-linejoin:round; stroke-width:4; stroke-opacity:1; fill:none\" points=\"\n",
       "  1584.31,1486.45 1584.31,1467.55 \n",
       "  \"/>\n",
       "<polyline clip-path=\"url(#clip470)\" style=\"stroke:#000000; stroke-linecap:butt; stroke-linejoin:round; stroke-width:4; stroke-opacity:1; fill:none\" points=\"\n",
       "  2289.31,1486.45 2289.31,1467.55 \n",
       "  \"/>\n",
       "<path clip-path=\"url(#clip470)\" d=\"M151.715 1517.37 Q148.103 1517.37 146.275 1520.93 Q144.469 1524.47 144.469 1531.6 Q144.469 1538.71 146.275 1542.27 Q148.103 1545.82 151.715 1545.82 Q155.349 1545.82 157.154 1542.27 Q158.983 1538.71 158.983 1531.6 Q158.983 1524.47 157.154 1520.93 Q155.349 1517.37 151.715 1517.37 M151.715 1513.66 Q157.525 1513.66 160.58 1518.27 Q163.659 1522.85 163.659 1531.6 Q163.659 1540.33 160.58 1544.94 Q157.525 1549.52 151.715 1549.52 Q145.904 1549.52 142.826 1544.94 Q139.77 1540.33 139.77 1531.6 Q139.77 1522.85 142.826 1518.27 Q145.904 1513.66 151.715 1513.66 Z\" fill=\"#000000\" fill-rule=\"evenodd\" fill-opacity=\"1\" /><path clip-path=\"url(#clip470)\" d=\"M171.876 1542.97 L176.761 1542.97 L176.761 1548.85 L171.876 1548.85 L171.876 1542.97 Z\" fill=\"#000000\" fill-rule=\"evenodd\" fill-opacity=\"1\" /><path clip-path=\"url(#clip470)\" d=\"M196.946 1517.37 Q193.335 1517.37 191.506 1520.93 Q189.7 1524.47 189.7 1531.6 Q189.7 1538.71 191.506 1542.27 Q193.335 1545.82 196.946 1545.82 Q200.58 1545.82 202.386 1542.27 Q204.214 1538.71 204.214 1531.6 Q204.214 1524.47 202.386 1520.93 Q200.58 1517.37 196.946 1517.37 M196.946 1513.66 Q202.756 1513.66 205.811 1518.27 Q208.89 1522.85 208.89 1531.6 Q208.89 1540.33 205.811 1544.94 Q202.756 1549.52 196.946 1549.52 Q191.136 1549.52 188.057 1544.94 Q185.001 1540.33 185.001 1531.6 Q185.001 1522.85 188.057 1518.27 Q191.136 1513.66 196.946 1513.66 Z\" fill=\"#000000\" fill-rule=\"evenodd\" fill-opacity=\"1\" /><path clip-path=\"url(#clip470)\" d=\"M857.204 1517.37 Q853.593 1517.37 851.765 1520.93 Q849.959 1524.47 849.959 1531.6 Q849.959 1538.71 851.765 1542.27 Q853.593 1545.82 857.204 1545.82 Q860.839 1545.82 862.644 1542.27 Q864.473 1538.71 864.473 1531.6 Q864.473 1524.47 862.644 1520.93 Q860.839 1517.37 857.204 1517.37 M857.204 1513.66 Q863.015 1513.66 866.07 1518.27 Q869.149 1522.85 869.149 1531.6 Q869.149 1540.33 866.07 1544.94 Q863.015 1549.52 857.204 1549.52 Q851.394 1549.52 848.316 1544.94 Q845.26 1540.33 845.26 1531.6 Q845.26 1522.85 848.316 1518.27 Q851.394 1513.66 857.204 1513.66 Z\" fill=\"#000000\" fill-rule=\"evenodd\" fill-opacity=\"1\" /><path clip-path=\"url(#clip470)\" d=\"M877.366 1542.97 L882.251 1542.97 L882.251 1548.85 L877.366 1548.85 L877.366 1542.97 Z\" fill=\"#000000\" fill-rule=\"evenodd\" fill-opacity=\"1\" /><path clip-path=\"url(#clip470)\" d=\"M892.482 1514.29 L910.838 1514.29 L910.838 1518.22 L896.764 1518.22 L896.764 1526.7 Q897.783 1526.35 898.801 1526.19 Q899.82 1526 900.838 1526 Q906.625 1526 910.005 1529.17 Q913.385 1532.34 913.385 1537.76 Q913.385 1543.34 909.912 1546.44 Q906.44 1549.52 900.121 1549.52 Q897.945 1549.52 895.676 1549.15 Q893.431 1548.78 891.024 1548.04 L891.024 1543.34 Q893.107 1544.47 895.329 1545.03 Q897.551 1545.58 900.028 1545.58 Q904.033 1545.58 906.371 1543.48 Q908.709 1541.37 908.709 1537.76 Q908.709 1534.15 906.371 1532.04 Q904.033 1529.94 900.028 1529.94 Q898.153 1529.94 896.278 1530.35 Q894.426 1530.77 892.482 1531.65 L892.482 1514.29 Z\" fill=\"#000000\" fill-rule=\"evenodd\" fill-opacity=\"1\" /><path clip-path=\"url(#clip470)\" d=\"M1551.47 1544.91 L1559.11 1544.91 L1559.11 1518.55 L1550.8 1520.21 L1550.8 1515.95 L1559.06 1514.29 L1563.74 1514.29 L1563.74 1544.91 L1571.37 1544.91 L1571.37 1548.85 L1551.47 1548.85 L1551.47 1544.91 Z\" fill=\"#000000\" fill-rule=\"evenodd\" fill-opacity=\"1\" /><path clip-path=\"url(#clip470)\" d=\"M1580.82 1542.97 L1585.7 1542.97 L1585.7 1548.85 L1580.82 1548.85 L1580.82 1542.97 Z\" fill=\"#000000\" fill-rule=\"evenodd\" fill-opacity=\"1\" /><path clip-path=\"url(#clip470)\" d=\"M1605.89 1517.37 Q1602.28 1517.37 1600.45 1520.93 Q1598.64 1524.47 1598.64 1531.6 Q1598.64 1538.71 1600.45 1542.27 Q1602.28 1545.82 1605.89 1545.82 Q1609.52 1545.82 1611.33 1542.27 Q1613.16 1538.71 1613.16 1531.6 Q1613.16 1524.47 1611.33 1520.93 Q1609.52 1517.37 1605.89 1517.37 M1605.89 1513.66 Q1611.7 1513.66 1614.75 1518.27 Q1617.83 1522.85 1617.83 1531.6 Q1617.83 1540.33 1614.75 1544.94 Q1611.7 1549.52 1605.89 1549.52 Q1600.08 1549.52 1597 1544.94 Q1593.94 1540.33 1593.94 1531.6 Q1593.94 1522.85 1597 1518.27 Q1600.08 1513.66 1605.89 1513.66 Z\" fill=\"#000000\" fill-rule=\"evenodd\" fill-opacity=\"1\" /><path clip-path=\"url(#clip470)\" d=\"M2256.96 1544.91 L2264.6 1544.91 L2264.6 1518.55 L2256.29 1520.21 L2256.29 1515.95 L2264.55 1514.29 L2269.23 1514.29 L2269.23 1544.91 L2276.86 1544.91 L2276.86 1548.85 L2256.96 1548.85 L2256.96 1544.91 Z\" fill=\"#000000\" fill-rule=\"evenodd\" fill-opacity=\"1\" /><path clip-path=\"url(#clip470)\" d=\"M2286.31 1542.97 L2291.19 1542.97 L2291.19 1548.85 L2286.31 1548.85 L2286.31 1542.97 Z\" fill=\"#000000\" fill-rule=\"evenodd\" fill-opacity=\"1\" /><path clip-path=\"url(#clip470)\" d=\"M2301.42 1514.29 L2319.78 1514.29 L2319.78 1518.22 L2305.71 1518.22 L2305.71 1526.7 Q2306.73 1526.35 2307.74 1526.19 Q2308.76 1526 2309.78 1526 Q2315.57 1526 2318.95 1529.17 Q2322.33 1532.34 2322.33 1537.76 Q2322.33 1543.34 2318.86 1546.44 Q2315.38 1549.52 2309.06 1549.52 Q2306.89 1549.52 2304.62 1549.15 Q2302.37 1548.78 2299.97 1548.04 L2299.97 1543.34 Q2302.05 1544.47 2304.27 1545.03 Q2306.49 1545.58 2308.97 1545.58 Q2312.98 1545.58 2315.31 1543.48 Q2317.65 1541.37 2317.65 1537.76 Q2317.65 1534.15 2315.31 1532.04 Q2312.98 1529.94 2308.97 1529.94 Q2307.1 1529.94 2305.22 1530.35 Q2303.37 1530.77 2301.42 1531.65 L2301.42 1514.29 Z\" fill=\"#000000\" fill-rule=\"evenodd\" fill-opacity=\"1\" /><polyline clip-path=\"url(#clip472)\" style=\"stroke:#000000; stroke-linecap:butt; stroke-linejoin:round; stroke-width:2; stroke-opacity:0.1; fill:none\" points=\"\n",
       "  110.881,1445.72 2352.76,1445.72 \n",
       "  \"/>\n",
       "<polyline clip-path=\"url(#clip472)\" style=\"stroke:#000000; stroke-linecap:butt; stroke-linejoin:round; stroke-width:2; stroke-opacity:0.1; fill:none\" points=\"\n",
       "  110.881,993.136 2352.76,993.136 \n",
       "  \"/>\n",
       "<polyline clip-path=\"url(#clip472)\" style=\"stroke:#000000; stroke-linecap:butt; stroke-linejoin:round; stroke-width:2; stroke-opacity:0.1; fill:none\" points=\"\n",
       "  110.881,540.556 2352.76,540.556 \n",
       "  \"/>\n",
       "<polyline clip-path=\"url(#clip472)\" style=\"stroke:#000000; stroke-linecap:butt; stroke-linejoin:round; stroke-width:2; stroke-opacity:0.1; fill:none\" points=\"\n",
       "  110.881,87.9763 2352.76,87.9763 \n",
       "  \"/>\n",
       "<polyline clip-path=\"url(#clip470)\" style=\"stroke:#000000; stroke-linecap:butt; stroke-linejoin:round; stroke-width:4; stroke-opacity:1; fill:none\" points=\"\n",
       "  110.881,1486.45 110.881,47.2441 \n",
       "  \"/>\n",
       "<polyline clip-path=\"url(#clip470)\" style=\"stroke:#000000; stroke-linecap:butt; stroke-linejoin:round; stroke-width:4; stroke-opacity:1; fill:none\" points=\"\n",
       "  110.881,1445.72 129.779,1445.72 \n",
       "  \"/>\n",
       "<polyline clip-path=\"url(#clip470)\" style=\"stroke:#000000; stroke-linecap:butt; stroke-linejoin:round; stroke-width:4; stroke-opacity:1; fill:none\" points=\"\n",
       "  110.881,993.136 129.779,993.136 \n",
       "  \"/>\n",
       "<polyline clip-path=\"url(#clip470)\" style=\"stroke:#000000; stroke-linecap:butt; stroke-linejoin:round; stroke-width:4; stroke-opacity:1; fill:none\" points=\"\n",
       "  110.881,540.556 129.779,540.556 \n",
       "  \"/>\n",
       "<polyline clip-path=\"url(#clip470)\" style=\"stroke:#000000; stroke-linecap:butt; stroke-linejoin:round; stroke-width:4; stroke-opacity:1; fill:none\" points=\"\n",
       "  110.881,87.9763 129.779,87.9763 \n",
       "  \"/>\n",
       "<path clip-path=\"url(#clip470)\" d=\"M62.9365 1431.51 Q59.3254 1431.51 57.4967 1435.08 Q55.6912 1438.62 55.6912 1445.75 Q55.6912 1452.86 57.4967 1456.42 Q59.3254 1459.96 62.9365 1459.96 Q66.5707 1459.96 68.3763 1456.42 Q70.205 1452.86 70.205 1445.75 Q70.205 1438.62 68.3763 1435.08 Q66.5707 1431.51 62.9365 1431.51 M62.9365 1427.81 Q68.7467 1427.81 71.8022 1432.42 Q74.8809 1437 74.8809 1445.75 Q74.8809 1454.48 71.8022 1459.08 Q68.7467 1463.67 62.9365 1463.67 Q57.1264 1463.67 54.0477 1459.08 Q50.9921 1454.48 50.9921 1445.75 Q50.9921 1437 54.0477 1432.42 Q57.1264 1427.81 62.9365 1427.81 Z\" fill=\"#000000\" fill-rule=\"evenodd\" fill-opacity=\"1\" /><path clip-path=\"url(#clip470)\" d=\"M54.9736 1006.48 L62.6124 1006.48 L62.6124 980.115 L54.3023 981.782 L54.3023 977.523 L62.5661 975.856 L67.242 975.856 L67.242 1006.48 L74.8809 1006.48 L74.8809 1010.42 L54.9736 1010.42 L54.9736 1006.48 Z\" fill=\"#000000\" fill-rule=\"evenodd\" fill-opacity=\"1\" /><path clip-path=\"url(#clip470)\" d=\"M58.5615 553.901 L74.8809 553.901 L74.8809 557.836 L52.9366 557.836 L52.9366 553.901 Q55.5986 551.146 60.1819 546.517 Q64.7883 541.864 65.9689 540.521 Q68.2143 537.998 69.0939 536.262 Q69.9967 534.503 69.9967 532.813 Q69.9967 530.058 68.0522 528.322 Q66.1309 526.586 63.0291 526.586 Q60.83 526.586 58.3763 527.35 Q55.9458 528.114 53.168 529.665 L53.168 524.943 Q55.9921 523.808 58.4458 523.23 Q60.8995 522.651 62.9365 522.651 Q68.3068 522.651 71.5013 525.336 Q74.6957 528.021 74.6957 532.512 Q74.6957 534.642 73.8855 536.563 Q73.0985 538.461 70.992 541.054 Q70.4133 541.725 67.3115 544.943 Q64.2096 548.137 58.5615 553.901 Z\" fill=\"#000000\" fill-rule=\"evenodd\" fill-opacity=\"1\" /><path clip-path=\"url(#clip470)\" d=\"M67.7513 86.6221 Q71.1078 87.3397 72.9827 89.6082 Q74.8809 91.8767 74.8809 95.21 Q74.8809 100.326 71.3624 103.127 Q67.8439 105.928 61.3624 105.928 Q59.1865 105.928 56.8717 105.488 Q54.5801 105.071 52.1264 104.215 L52.1264 99.7008 Q54.0708 100.835 56.3856 101.414 Q58.7004 101.992 61.2236 101.992 Q65.6217 101.992 67.9133 100.256 Q70.2281 98.5202 70.2281 95.21 Q70.2281 92.1545 68.0754 90.4415 Q65.9457 88.7054 62.1263 88.7054 L58.0986 88.7054 L58.0986 84.8629 L62.3115 84.8629 Q65.7606 84.8629 67.5893 83.4971 Q69.418 82.1083 69.418 79.5157 Q69.418 76.8537 67.5198 75.4416 Q65.6448 74.0064 62.1263 74.0064 Q60.205 74.0064 58.006 74.4231 Q55.8069 74.8398 53.168 75.7194 L53.168 71.5528 Q55.8301 70.812 58.1449 70.4416 Q60.4828 70.0713 62.543 70.0713 Q67.867 70.0713 70.9689 72.5018 Q74.0707 74.9092 74.0707 79.0296 Q74.0707 81.8999 72.4272 83.8907 Q70.7837 85.8582 67.7513 86.6221 Z\" fill=\"#000000\" fill-rule=\"evenodd\" fill-opacity=\"1\" /><polyline clip-path=\"url(#clip472)\" style=\"stroke:#009af9; stroke-linecap:butt; stroke-linejoin:round; stroke-width:4; stroke-opacity:1; fill:none\" points=\"\n",
       "  174.33,87.9763 244.829,93.526 315.329,110.175 385.828,137.924 456.327,176.772 526.826,226.72 597.325,287.768 667.825,359.915 738.324,443.161 808.823,537.507 \n",
       "  879.322,642.952 949.822,759.497 1020.32,887.142 1090.82,1025.89 1161.32,1175.73 1231.82,1336.67 1302.32,1445.72 1372.82,1445.72 1443.32,1445.72 1513.82,1445.72 \n",
       "  1584.31,1445.72 1654.81,1445.72 1725.31,1445.72 1795.81,1445.72 1866.31,1445.72 1936.81,1445.72 2007.31,1445.72 2077.81,1445.72 2148.31,1445.72 2218.81,1445.72 \n",
       "  2289.31,1445.72 \n",
       "  \"/>\n",
       "<path clip-path=\"url(#clip470)\" d=\"\n",
       "M1976.5 198.898 L2278.03 198.898 L2278.03 95.2176 L1976.5 95.2176  Z\n",
       "  \" fill=\"#ffffff\" fill-rule=\"evenodd\" fill-opacity=\"1\"/>\n",
       "<polyline clip-path=\"url(#clip470)\" style=\"stroke:#000000; stroke-linecap:butt; stroke-linejoin:round; stroke-width:4; stroke-opacity:1; fill:none\" points=\"\n",
       "  1976.5,198.898 2278.03,198.898 2278.03,95.2176 1976.5,95.2176 1976.5,198.898 \n",
       "  \"/>\n",
       "<polyline clip-path=\"url(#clip470)\" style=\"stroke:#009af9; stroke-linecap:butt; stroke-linejoin:round; stroke-width:4; stroke-opacity:1; fill:none\" points=\"\n",
       "  2001.41,147.058 2150.87,147.058 \n",
       "  \"/>\n",
       "<path clip-path=\"url(#clip470)\" d=\"M2189.62 166.745 Q2187.81 171.375 2186.1 172.787 Q2184.39 174.199 2181.52 174.199 L2178.11 174.199 L2178.11 170.634 L2180.61 170.634 Q2182.37 170.634 2183.35 169.8 Q2184.32 168.967 2185.5 165.865 L2186.26 163.921 L2175.78 138.412 L2180.29 138.412 L2188.39 158.689 L2196.49 138.412 L2201.01 138.412 L2189.62 166.745 Z\" fill=\"#000000\" fill-rule=\"evenodd\" fill-opacity=\"1\" /><path clip-path=\"url(#clip470)\" d=\"M2208.3 160.402 L2215.94 160.402 L2215.94 134.037 L2207.63 135.703 L2207.63 131.444 L2215.89 129.778 L2220.57 129.778 L2220.57 160.402 L2228.21 160.402 L2228.21 164.338 L2208.3 164.338 L2208.3 160.402 Z\" fill=\"#000000\" fill-rule=\"evenodd\" fill-opacity=\"1\" /></svg>\n"
      ]
     },
     "execution_count": 36,
     "metadata": {},
     "output_type": "execute_result"
    }
   ],
   "source": [
    "plot(thist,qhist[2,:])"
   ]
  },
  {
   "cell_type": "code",
   "execution_count": 37,
   "id": "801801e2",
   "metadata": {},
   "outputs": [
    {
     "data": {
      "image/svg+xml": [
       "<?xml version=\"1.0\" encoding=\"utf-8\"?>\n",
       "<svg xmlns=\"http://www.w3.org/2000/svg\" xmlns:xlink=\"http://www.w3.org/1999/xlink\" width=\"600\" height=\"400\" viewBox=\"0 0 2400 1600\">\n",
       "<defs>\n",
       "  <clipPath id=\"clip510\">\n",
       "    <rect x=\"0\" y=\"0\" width=\"2400\" height=\"1600\"/>\n",
       "  </clipPath>\n",
       "</defs>\n",
       "<path clip-path=\"url(#clip510)\" d=\"\n",
       "M0 1600 L2400 1600 L2400 0 L0 0  Z\n",
       "  \" fill=\"#ffffff\" fill-rule=\"evenodd\" fill-opacity=\"1\"/>\n",
       "<defs>\n",
       "  <clipPath id=\"clip511\">\n",
       "    <rect x=\"480\" y=\"0\" width=\"1681\" height=\"1600\"/>\n",
       "  </clipPath>\n",
       "</defs>\n",
       "<path clip-path=\"url(#clip510)\" d=\"\n",
       "M201.019 1486.45 L2352.76 1486.45 L2352.76 47.2441 L201.019 47.2441  Z\n",
       "  \" fill=\"#ffffff\" fill-rule=\"evenodd\" fill-opacity=\"1\"/>\n",
       "<defs>\n",
       "  <clipPath id=\"clip512\">\n",
       "    <rect x=\"201\" y=\"47\" width=\"2153\" height=\"1440\"/>\n",
       "  </clipPath>\n",
       "</defs>\n",
       "<polyline clip-path=\"url(#clip512)\" style=\"stroke:#000000; stroke-linecap:butt; stroke-linejoin:round; stroke-width:2; stroke-opacity:0.1; fill:none\" points=\"\n",
       "  261.917,1486.45 261.917,47.2441 \n",
       "  \"/>\n",
       "<polyline clip-path=\"url(#clip512)\" style=\"stroke:#000000; stroke-linecap:butt; stroke-linejoin:round; stroke-width:2; stroke-opacity:0.1; fill:none\" points=\"\n",
       "  681.905,1486.45 681.905,47.2441 \n",
       "  \"/>\n",
       "<polyline clip-path=\"url(#clip512)\" style=\"stroke:#000000; stroke-linecap:butt; stroke-linejoin:round; stroke-width:2; stroke-opacity:0.1; fill:none\" points=\"\n",
       "  1101.89,1486.45 1101.89,47.2441 \n",
       "  \"/>\n",
       "<polyline clip-path=\"url(#clip512)\" style=\"stroke:#000000; stroke-linecap:butt; stroke-linejoin:round; stroke-width:2; stroke-opacity:0.1; fill:none\" points=\"\n",
       "  1521.88,1486.45 1521.88,47.2441 \n",
       "  \"/>\n",
       "<polyline clip-path=\"url(#clip512)\" style=\"stroke:#000000; stroke-linecap:butt; stroke-linejoin:round; stroke-width:2; stroke-opacity:0.1; fill:none\" points=\"\n",
       "  1941.87,1486.45 1941.87,47.2441 \n",
       "  \"/>\n",
       "<polyline clip-path=\"url(#clip510)\" style=\"stroke:#000000; stroke-linecap:butt; stroke-linejoin:round; stroke-width:4; stroke-opacity:1; fill:none\" points=\"\n",
       "  201.019,1486.45 2352.76,1486.45 \n",
       "  \"/>\n",
       "<polyline clip-path=\"url(#clip510)\" style=\"stroke:#000000; stroke-linecap:butt; stroke-linejoin:round; stroke-width:4; stroke-opacity:1; fill:none\" points=\"\n",
       "  261.917,1486.45 261.917,1467.55 \n",
       "  \"/>\n",
       "<polyline clip-path=\"url(#clip510)\" style=\"stroke:#000000; stroke-linecap:butt; stroke-linejoin:round; stroke-width:4; stroke-opacity:1; fill:none\" points=\"\n",
       "  681.905,1486.45 681.905,1467.55 \n",
       "  \"/>\n",
       "<polyline clip-path=\"url(#clip510)\" style=\"stroke:#000000; stroke-linecap:butt; stroke-linejoin:round; stroke-width:4; stroke-opacity:1; fill:none\" points=\"\n",
       "  1101.89,1486.45 1101.89,1467.55 \n",
       "  \"/>\n",
       "<polyline clip-path=\"url(#clip510)\" style=\"stroke:#000000; stroke-linecap:butt; stroke-linejoin:round; stroke-width:4; stroke-opacity:1; fill:none\" points=\"\n",
       "  1521.88,1486.45 1521.88,1467.55 \n",
       "  \"/>\n",
       "<polyline clip-path=\"url(#clip510)\" style=\"stroke:#000000; stroke-linecap:butt; stroke-linejoin:round; stroke-width:4; stroke-opacity:1; fill:none\" points=\"\n",
       "  1941.87,1486.45 1941.87,1467.55 \n",
       "  \"/>\n",
       "<path clip-path=\"url(#clip510)\" d=\"M239.302 1517.37 Q235.691 1517.37 233.862 1520.93 Q232.057 1524.47 232.057 1531.6 Q232.057 1538.71 233.862 1542.27 Q235.691 1545.82 239.302 1545.82 Q242.936 1545.82 244.742 1542.27 Q246.57 1538.71 246.57 1531.6 Q246.57 1524.47 244.742 1520.93 Q242.936 1517.37 239.302 1517.37 M239.302 1513.66 Q245.112 1513.66 248.168 1518.27 Q251.246 1522.85 251.246 1531.6 Q251.246 1540.33 248.168 1544.94 Q245.112 1549.52 239.302 1549.52 Q233.492 1549.52 230.413 1544.94 Q227.357 1540.33 227.357 1531.6 Q227.357 1522.85 230.413 1518.27 Q233.492 1513.66 239.302 1513.66 Z\" fill=\"#000000\" fill-rule=\"evenodd\" fill-opacity=\"1\" /><path clip-path=\"url(#clip510)\" d=\"M259.464 1542.97 L264.348 1542.97 L264.348 1548.85 L259.464 1548.85 L259.464 1542.97 Z\" fill=\"#000000\" fill-rule=\"evenodd\" fill-opacity=\"1\" /><path clip-path=\"url(#clip510)\" d=\"M284.533 1517.37 Q280.922 1517.37 279.093 1520.93 Q277.288 1524.47 277.288 1531.6 Q277.288 1538.71 279.093 1542.27 Q280.922 1545.82 284.533 1545.82 Q288.167 1545.82 289.973 1542.27 Q291.802 1538.71 291.802 1531.6 Q291.802 1524.47 289.973 1520.93 Q288.167 1517.37 284.533 1517.37 M284.533 1513.66 Q290.343 1513.66 293.399 1518.27 Q296.477 1522.85 296.477 1531.6 Q296.477 1540.33 293.399 1544.94 Q290.343 1549.52 284.533 1549.52 Q278.723 1549.52 275.644 1544.94 Q272.589 1540.33 272.589 1531.6 Q272.589 1522.85 275.644 1518.27 Q278.723 1513.66 284.533 1513.66 Z\" fill=\"#000000\" fill-rule=\"evenodd\" fill-opacity=\"1\" /><path clip-path=\"url(#clip510)\" d=\"M659.614 1517.37 Q656.002 1517.37 654.174 1520.93 Q652.368 1524.47 652.368 1531.6 Q652.368 1538.71 654.174 1542.27 Q656.002 1545.82 659.614 1545.82 Q663.248 1545.82 665.053 1542.27 Q666.882 1538.71 666.882 1531.6 Q666.882 1524.47 665.053 1520.93 Q663.248 1517.37 659.614 1517.37 M659.614 1513.66 Q665.424 1513.66 668.479 1518.27 Q671.558 1522.85 671.558 1531.6 Q671.558 1540.33 668.479 1544.94 Q665.424 1549.52 659.614 1549.52 Q653.803 1549.52 650.725 1544.94 Q647.669 1540.33 647.669 1531.6 Q647.669 1522.85 650.725 1518.27 Q653.803 1513.66 659.614 1513.66 Z\" fill=\"#000000\" fill-rule=\"evenodd\" fill-opacity=\"1\" /><path clip-path=\"url(#clip510)\" d=\"M679.776 1542.97 L684.66 1542.97 L684.66 1548.85 L679.776 1548.85 L679.776 1542.97 Z\" fill=\"#000000\" fill-rule=\"evenodd\" fill-opacity=\"1\" /><path clip-path=\"url(#clip510)\" d=\"M709.011 1530.21 Q712.368 1530.93 714.243 1533.2 Q716.141 1535.47 716.141 1538.8 Q716.141 1543.92 712.623 1546.72 Q709.104 1549.52 702.623 1549.52 Q700.447 1549.52 698.132 1549.08 Q695.84 1548.66 693.387 1547.81 L693.387 1543.29 Q695.331 1544.43 697.646 1545.01 Q699.961 1545.58 702.484 1545.58 Q706.882 1545.58 709.173 1543.85 Q711.488 1542.11 711.488 1538.8 Q711.488 1535.75 709.336 1534.03 Q707.206 1532.3 703.386 1532.3 L699.359 1532.3 L699.359 1528.45 L703.572 1528.45 Q707.021 1528.45 708.849 1527.09 Q710.678 1525.7 710.678 1523.11 Q710.678 1520.45 708.78 1519.03 Q706.905 1517.6 703.386 1517.6 Q701.465 1517.6 699.266 1518.01 Q697.067 1518.43 694.428 1519.31 L694.428 1515.14 Q697.09 1514.4 699.405 1514.03 Q701.743 1513.66 703.803 1513.66 Q709.127 1513.66 712.229 1516.09 Q715.331 1518.5 715.331 1522.62 Q715.331 1525.49 713.687 1527.48 Q712.044 1529.45 709.011 1530.21 Z\" fill=\"#000000\" fill-rule=\"evenodd\" fill-opacity=\"1\" /><path clip-path=\"url(#clip510)\" d=\"M1079.2 1517.37 Q1075.59 1517.37 1073.76 1520.93 Q1071.95 1524.47 1071.95 1531.6 Q1071.95 1538.71 1073.76 1542.27 Q1075.59 1545.82 1079.2 1545.82 Q1082.83 1545.82 1084.64 1542.27 Q1086.46 1538.71 1086.46 1531.6 Q1086.46 1524.47 1084.64 1520.93 Q1082.83 1517.37 1079.2 1517.37 M1079.2 1513.66 Q1085.01 1513.66 1088.06 1518.27 Q1091.14 1522.85 1091.14 1531.6 Q1091.14 1540.33 1088.06 1544.94 Q1085.01 1549.52 1079.2 1549.52 Q1073.39 1549.52 1070.31 1544.94 Q1067.25 1540.33 1067.25 1531.6 Q1067.25 1522.85 1070.31 1518.27 Q1073.39 1513.66 1079.2 1513.66 Z\" fill=\"#000000\" fill-rule=\"evenodd\" fill-opacity=\"1\" /><path clip-path=\"url(#clip510)\" d=\"M1099.36 1542.97 L1104.24 1542.97 L1104.24 1548.85 L1099.36 1548.85 L1099.36 1542.97 Z\" fill=\"#000000\" fill-rule=\"evenodd\" fill-opacity=\"1\" /><path clip-path=\"url(#clip510)\" d=\"M1125.01 1529.7 Q1121.86 1529.7 1120.01 1531.86 Q1118.18 1534.01 1118.18 1537.76 Q1118.18 1541.49 1120.01 1543.66 Q1121.86 1545.82 1125.01 1545.82 Q1128.15 1545.82 1129.98 1543.66 Q1131.83 1541.49 1131.83 1537.76 Q1131.83 1534.01 1129.98 1531.86 Q1128.15 1529.7 1125.01 1529.7 M1134.29 1515.05 L1134.29 1519.31 Q1132.53 1518.48 1130.72 1518.04 Q1128.94 1517.6 1127.18 1517.6 Q1122.55 1517.6 1120.1 1520.72 Q1117.67 1523.85 1117.32 1530.17 Q1118.69 1528.15 1120.75 1527.09 Q1122.81 1526 1125.28 1526 Q1130.49 1526 1133.5 1529.17 Q1136.53 1532.32 1136.53 1537.76 Q1136.53 1543.08 1133.39 1546.3 Q1130.24 1549.52 1125.01 1549.52 Q1119.01 1549.52 1115.84 1544.94 Q1112.67 1540.33 1112.67 1531.6 Q1112.67 1523.41 1116.56 1518.55 Q1120.45 1513.66 1127 1513.66 Q1128.76 1513.66 1130.54 1514.01 Q1132.34 1514.36 1134.29 1515.05 Z\" fill=\"#000000\" fill-rule=\"evenodd\" fill-opacity=\"1\" /><path clip-path=\"url(#clip510)\" d=\"M1499.36 1517.37 Q1495.75 1517.37 1493.92 1520.93 Q1492.11 1524.47 1492.11 1531.6 Q1492.11 1538.71 1493.92 1542.27 Q1495.75 1545.82 1499.36 1545.82 Q1502.99 1545.82 1504.8 1542.27 Q1506.63 1538.71 1506.63 1531.6 Q1506.63 1524.47 1504.8 1520.93 Q1502.99 1517.37 1499.36 1517.37 M1499.36 1513.66 Q1505.17 1513.66 1508.22 1518.27 Q1511.3 1522.85 1511.3 1531.6 Q1511.3 1540.33 1508.22 1544.94 Q1505.17 1549.52 1499.36 1549.52 Q1493.55 1549.52 1490.47 1544.94 Q1487.41 1540.33 1487.41 1531.6 Q1487.41 1522.85 1490.47 1518.27 Q1493.55 1513.66 1499.36 1513.66 Z\" fill=\"#000000\" fill-rule=\"evenodd\" fill-opacity=\"1\" /><path clip-path=\"url(#clip510)\" d=\"M1519.52 1542.97 L1524.4 1542.97 L1524.4 1548.85 L1519.52 1548.85 L1519.52 1542.97 Z\" fill=\"#000000\" fill-rule=\"evenodd\" fill-opacity=\"1\" /><path clip-path=\"url(#clip510)\" d=\"M1534.73 1548.13 L1534.73 1543.87 Q1536.49 1544.7 1538.29 1545.14 Q1540.1 1545.58 1541.83 1545.58 Q1546.46 1545.58 1548.89 1542.48 Q1551.35 1539.36 1551.7 1533.01 Q1550.35 1535.01 1548.29 1536.07 Q1546.23 1537.13 1543.73 1537.13 Q1538.55 1537.13 1535.51 1534.01 Q1532.51 1530.86 1532.51 1525.42 Q1532.51 1520.1 1535.65 1516.88 Q1538.8 1513.66 1544.03 1513.66 Q1550.03 1513.66 1553.18 1518.27 Q1556.35 1522.85 1556.35 1531.6 Q1556.35 1539.77 1552.46 1544.66 Q1548.59 1549.52 1542.04 1549.52 Q1540.28 1549.52 1538.48 1549.17 Q1536.67 1548.82 1534.73 1548.13 M1544.03 1533.48 Q1547.18 1533.48 1549.01 1531.32 Q1550.86 1529.17 1550.86 1525.42 Q1550.86 1521.7 1549.01 1519.54 Q1547.18 1517.37 1544.03 1517.37 Q1540.88 1517.37 1539.03 1519.54 Q1537.2 1521.7 1537.2 1525.42 Q1537.2 1529.17 1539.03 1531.32 Q1540.88 1533.48 1544.03 1533.48 Z\" fill=\"#000000\" fill-rule=\"evenodd\" fill-opacity=\"1\" /><path clip-path=\"url(#clip510)\" d=\"M1909.82 1544.91 L1917.46 1544.91 L1917.46 1518.55 L1909.15 1520.21 L1909.15 1515.95 L1917.41 1514.29 L1922.09 1514.29 L1922.09 1544.91 L1929.73 1544.91 L1929.73 1548.85 L1909.82 1548.85 L1909.82 1544.91 Z\" fill=\"#000000\" fill-rule=\"evenodd\" fill-opacity=\"1\" /><path clip-path=\"url(#clip510)\" d=\"M1939.17 1542.97 L1944.06 1542.97 L1944.06 1548.85 L1939.17 1548.85 L1939.17 1542.97 Z\" fill=\"#000000\" fill-rule=\"evenodd\" fill-opacity=\"1\" /><path clip-path=\"url(#clip510)\" d=\"M1958.27 1544.91 L1974.59 1544.91 L1974.59 1548.85 L1952.64 1548.85 L1952.64 1544.91 Q1955.31 1542.16 1959.89 1537.53 Q1964.5 1532.88 1965.68 1531.53 Q1967.92 1529.01 1968.8 1527.27 Q1969.7 1525.51 1969.7 1523.82 Q1969.7 1521.07 1967.76 1519.33 Q1965.84 1517.6 1962.74 1517.6 Q1960.54 1517.6 1958.08 1518.36 Q1955.65 1519.13 1952.87 1520.68 L1952.87 1515.95 Q1955.7 1514.82 1958.15 1514.24 Q1960.61 1513.66 1962.64 1513.66 Q1968.01 1513.66 1971.21 1516.35 Q1974.4 1519.03 1974.4 1523.52 Q1974.4 1525.65 1973.59 1527.57 Q1972.81 1529.47 1970.7 1532.07 Q1970.12 1532.74 1967.02 1535.95 Q1963.92 1539.15 1958.27 1544.91 Z\" fill=\"#000000\" fill-rule=\"evenodd\" fill-opacity=\"1\" /><polyline clip-path=\"url(#clip512)\" style=\"stroke:#000000; stroke-linecap:butt; stroke-linejoin:round; stroke-width:2; stroke-opacity:0.1; fill:none\" points=\"\n",
       "  201.019,1445.72 2352.76,1445.72 \n",
       "  \"/>\n",
       "<polyline clip-path=\"url(#clip512)\" style=\"stroke:#000000; stroke-linecap:butt; stroke-linejoin:round; stroke-width:2; stroke-opacity:0.1; fill:none\" points=\"\n",
       "  201.019,1126.05 2352.76,1126.05 \n",
       "  \"/>\n",
       "<polyline clip-path=\"url(#clip512)\" style=\"stroke:#000000; stroke-linecap:butt; stroke-linejoin:round; stroke-width:2; stroke-opacity:0.1; fill:none\" points=\"\n",
       "  201.019,806.388 2352.76,806.388 \n",
       "  \"/>\n",
       "<polyline clip-path=\"url(#clip512)\" style=\"stroke:#000000; stroke-linecap:butt; stroke-linejoin:round; stroke-width:2; stroke-opacity:0.1; fill:none\" points=\"\n",
       "  201.019,486.725 2352.76,486.725 \n",
       "  \"/>\n",
       "<polyline clip-path=\"url(#clip512)\" style=\"stroke:#000000; stroke-linecap:butt; stroke-linejoin:round; stroke-width:2; stroke-opacity:0.1; fill:none\" points=\"\n",
       "  201.019,167.061 2352.76,167.061 \n",
       "  \"/>\n",
       "<polyline clip-path=\"url(#clip510)\" style=\"stroke:#000000; stroke-linecap:butt; stroke-linejoin:round; stroke-width:4; stroke-opacity:1; fill:none\" points=\"\n",
       "  201.019,1486.45 201.019,47.2441 \n",
       "  \"/>\n",
       "<polyline clip-path=\"url(#clip510)\" style=\"stroke:#000000; stroke-linecap:butt; stroke-linejoin:round; stroke-width:4; stroke-opacity:1; fill:none\" points=\"\n",
       "  201.019,1445.72 219.917,1445.72 \n",
       "  \"/>\n",
       "<polyline clip-path=\"url(#clip510)\" style=\"stroke:#000000; stroke-linecap:butt; stroke-linejoin:round; stroke-width:4; stroke-opacity:1; fill:none\" points=\"\n",
       "  201.019,1126.05 219.917,1126.05 \n",
       "  \"/>\n",
       "<polyline clip-path=\"url(#clip510)\" style=\"stroke:#000000; stroke-linecap:butt; stroke-linejoin:round; stroke-width:4; stroke-opacity:1; fill:none\" points=\"\n",
       "  201.019,806.388 219.917,806.388 \n",
       "  \"/>\n",
       "<polyline clip-path=\"url(#clip510)\" style=\"stroke:#000000; stroke-linecap:butt; stroke-linejoin:round; stroke-width:4; stroke-opacity:1; fill:none\" points=\"\n",
       "  201.019,486.725 219.917,486.725 \n",
       "  \"/>\n",
       "<polyline clip-path=\"url(#clip510)\" style=\"stroke:#000000; stroke-linecap:butt; stroke-linejoin:round; stroke-width:4; stroke-opacity:1; fill:none\" points=\"\n",
       "  201.019,167.061 219.917,167.061 \n",
       "  \"/>\n",
       "<path clip-path=\"url(#clip510)\" d=\"M153.075 1431.51 Q149.464 1431.51 147.635 1435.08 Q145.83 1438.62 145.83 1445.75 Q145.83 1452.86 147.635 1456.42 Q149.464 1459.96 153.075 1459.96 Q156.709 1459.96 158.515 1456.42 Q160.343 1452.86 160.343 1445.75 Q160.343 1438.62 158.515 1435.08 Q156.709 1431.51 153.075 1431.51 M153.075 1427.81 Q158.885 1427.81 161.941 1432.42 Q165.019 1437 165.019 1445.75 Q165.019 1454.48 161.941 1459.08 Q158.885 1463.67 153.075 1463.67 Q147.265 1463.67 144.186 1459.08 Q141.131 1454.48 141.131 1445.75 Q141.131 1437 144.186 1432.42 Q147.265 1427.81 153.075 1427.81 Z\" fill=\"#000000\" fill-rule=\"evenodd\" fill-opacity=\"1\" /><path clip-path=\"url(#clip510)\" d=\"M82.7975 1108.77 L101.154 1108.77 L101.154 1112.71 L87.0799 1112.71 L87.0799 1121.18 Q88.0984 1120.83 89.1169 1120.67 Q90.1354 1120.48 91.1539 1120.48 Q96.941 1120.48 100.321 1123.66 Q103.7 1126.83 103.7 1132.24 Q103.7 1137.82 100.228 1140.92 Q96.7558 1144 90.4364 1144 Q88.2604 1144 85.9919 1143.63 Q83.7466 1143.26 81.3392 1142.52 L81.3392 1137.82 Q83.4225 1138.96 85.6447 1139.51 Q87.8669 1140.07 90.3438 1140.07 Q94.3484 1140.07 96.6863 1137.96 Q99.0243 1135.86 99.0243 1132.24 Q99.0243 1128.63 96.6863 1126.53 Q94.3484 1124.42 90.3438 1124.42 Q88.4688 1124.42 86.5938 1124.84 Q84.7419 1125.25 82.7975 1126.13 L82.7975 1108.77 Z\" fill=\"#000000\" fill-rule=\"evenodd\" fill-opacity=\"1\" /><path clip-path=\"url(#clip510)\" d=\"M122.913 1111.85 Q119.302 1111.85 117.473 1115.42 Q115.668 1118.96 115.668 1126.09 Q115.668 1133.19 117.473 1136.76 Q119.302 1140.3 122.913 1140.3 Q126.547 1140.3 128.353 1136.76 Q130.182 1133.19 130.182 1126.09 Q130.182 1118.96 128.353 1115.42 Q126.547 1111.85 122.913 1111.85 M122.913 1108.15 Q128.723 1108.15 131.779 1112.75 Q134.857 1117.34 134.857 1126.09 Q134.857 1134.81 131.779 1139.42 Q128.723 1144 122.913 1144 Q117.103 1144 114.024 1139.42 Q110.969 1134.81 110.969 1126.09 Q110.969 1117.34 114.024 1112.75 Q117.103 1108.15 122.913 1108.15 Z\" fill=\"#000000\" fill-rule=\"evenodd\" fill-opacity=\"1\" /><path clip-path=\"url(#clip510)\" d=\"M153.075 1111.85 Q149.464 1111.85 147.635 1115.42 Q145.83 1118.96 145.83 1126.09 Q145.83 1133.19 147.635 1136.76 Q149.464 1140.3 153.075 1140.3 Q156.709 1140.3 158.515 1136.76 Q160.343 1133.19 160.343 1126.09 Q160.343 1118.96 158.515 1115.42 Q156.709 1111.85 153.075 1111.85 M153.075 1108.15 Q158.885 1108.15 161.941 1112.75 Q165.019 1117.34 165.019 1126.09 Q165.019 1134.81 161.941 1139.42 Q158.885 1144 153.075 1144 Q147.265 1144 144.186 1139.42 Q141.131 1134.81 141.131 1126.09 Q141.131 1117.34 144.186 1112.75 Q147.265 1108.15 153.075 1108.15 Z\" fill=\"#000000\" fill-rule=\"evenodd\" fill-opacity=\"1\" /><path clip-path=\"url(#clip510)\" d=\"M53.3995 819.733 L61.0384 819.733 L61.0384 793.368 L52.7282 795.034 L52.7282 790.775 L60.9921 789.108 L65.668 789.108 L65.668 819.733 L73.3068 819.733 L73.3068 823.668 L53.3995 823.668 L53.3995 819.733 Z\" fill=\"#000000\" fill-rule=\"evenodd\" fill-opacity=\"1\" /><path clip-path=\"url(#clip510)\" d=\"M92.7512 792.187 Q89.1401 792.187 87.3114 795.752 Q85.5058 799.294 85.5058 806.423 Q85.5058 813.53 87.3114 817.094 Q89.1401 820.636 92.7512 820.636 Q96.3854 820.636 98.1909 817.094 Q100.02 813.53 100.02 806.423 Q100.02 799.294 98.1909 795.752 Q96.3854 792.187 92.7512 792.187 M92.7512 788.483 Q98.5613 788.483 101.617 793.09 Q104.696 797.673 104.696 806.423 Q104.696 815.15 101.617 819.756 Q98.5613 824.34 92.7512 824.34 Q86.941 824.34 83.8623 819.756 Q80.8068 815.15 80.8068 806.423 Q80.8068 797.673 83.8623 793.09 Q86.941 788.483 92.7512 788.483 Z\" fill=\"#000000\" fill-rule=\"evenodd\" fill-opacity=\"1\" /><path clip-path=\"url(#clip510)\" d=\"M122.913 792.187 Q119.302 792.187 117.473 795.752 Q115.668 799.294 115.668 806.423 Q115.668 813.53 117.473 817.094 Q119.302 820.636 122.913 820.636 Q126.547 820.636 128.353 817.094 Q130.182 813.53 130.182 806.423 Q130.182 799.294 128.353 795.752 Q126.547 792.187 122.913 792.187 M122.913 788.483 Q128.723 788.483 131.779 793.09 Q134.857 797.673 134.857 806.423 Q134.857 815.15 131.779 819.756 Q128.723 824.34 122.913 824.34 Q117.103 824.34 114.024 819.756 Q110.969 815.15 110.969 806.423 Q110.969 797.673 114.024 793.09 Q117.103 788.483 122.913 788.483 Z\" fill=\"#000000\" fill-rule=\"evenodd\" fill-opacity=\"1\" /><path clip-path=\"url(#clip510)\" d=\"M153.075 792.187 Q149.464 792.187 147.635 795.752 Q145.83 799.294 145.83 806.423 Q145.83 813.53 147.635 817.094 Q149.464 820.636 153.075 820.636 Q156.709 820.636 158.515 817.094 Q160.343 813.53 160.343 806.423 Q160.343 799.294 158.515 795.752 Q156.709 792.187 153.075 792.187 M153.075 788.483 Q158.885 788.483 161.941 793.09 Q165.019 797.673 165.019 806.423 Q165.019 815.15 161.941 819.756 Q158.885 824.34 153.075 824.34 Q147.265 824.34 144.186 819.756 Q141.131 815.15 141.131 806.423 Q141.131 797.673 144.186 793.09 Q147.265 788.483 153.075 788.483 Z\" fill=\"#000000\" fill-rule=\"evenodd\" fill-opacity=\"1\" /><path clip-path=\"url(#clip510)\" d=\"M53.3995 500.07 L61.0384 500.07 L61.0384 473.704 L52.7282 475.371 L52.7282 471.111 L60.9921 469.445 L65.668 469.445 L65.668 500.07 L73.3068 500.07 L73.3068 504.005 L53.3995 504.005 L53.3995 500.07 Z\" fill=\"#000000\" fill-rule=\"evenodd\" fill-opacity=\"1\" /><path clip-path=\"url(#clip510)\" d=\"M82.7975 469.445 L101.154 469.445 L101.154 473.38 L87.0799 473.38 L87.0799 481.852 Q88.0984 481.505 89.1169 481.343 Q90.1354 481.158 91.1539 481.158 Q96.941 481.158 100.321 484.329 Q103.7 487.5 103.7 492.917 Q103.7 498.495 100.228 501.597 Q96.7558 504.676 90.4364 504.676 Q88.2604 504.676 85.9919 504.306 Q83.7466 503.935 81.3392 503.195 L81.3392 498.495 Q83.4225 499.63 85.6447 500.185 Q87.8669 500.741 90.3438 500.741 Q94.3484 500.741 96.6863 498.634 Q99.0243 496.528 99.0243 492.917 Q99.0243 489.306 96.6863 487.199 Q94.3484 485.093 90.3438 485.093 Q88.4688 485.093 86.5938 485.509 Q84.7419 485.926 82.7975 486.806 L82.7975 469.445 Z\" fill=\"#000000\" fill-rule=\"evenodd\" fill-opacity=\"1\" /><path clip-path=\"url(#clip510)\" d=\"M122.913 472.523 Q119.302 472.523 117.473 476.088 Q115.668 479.63 115.668 486.759 Q115.668 493.866 117.473 497.431 Q119.302 500.972 122.913 500.972 Q126.547 500.972 128.353 497.431 Q130.182 493.866 130.182 486.759 Q130.182 479.63 128.353 476.088 Q126.547 472.523 122.913 472.523 M122.913 468.82 Q128.723 468.82 131.779 473.426 Q134.857 478.009 134.857 486.759 Q134.857 495.486 131.779 500.093 Q128.723 504.676 122.913 504.676 Q117.103 504.676 114.024 500.093 Q110.969 495.486 110.969 486.759 Q110.969 478.009 114.024 473.426 Q117.103 468.82 122.913 468.82 Z\" fill=\"#000000\" fill-rule=\"evenodd\" fill-opacity=\"1\" /><path clip-path=\"url(#clip510)\" d=\"M153.075 472.523 Q149.464 472.523 147.635 476.088 Q145.83 479.63 145.83 486.759 Q145.83 493.866 147.635 497.431 Q149.464 500.972 153.075 500.972 Q156.709 500.972 158.515 497.431 Q160.343 493.866 160.343 486.759 Q160.343 479.63 158.515 476.088 Q156.709 472.523 153.075 472.523 M153.075 468.82 Q158.885 468.82 161.941 473.426 Q165.019 478.009 165.019 486.759 Q165.019 495.486 161.941 500.093 Q158.885 504.676 153.075 504.676 Q147.265 504.676 144.186 500.093 Q141.131 495.486 141.131 486.759 Q141.131 478.009 144.186 473.426 Q147.265 468.82 153.075 468.82 Z\" fill=\"#000000\" fill-rule=\"evenodd\" fill-opacity=\"1\" /><path clip-path=\"url(#clip510)\" d=\"M56.6171 180.406 L72.9365 180.406 L72.9365 184.341 L50.9921 184.341 L50.9921 180.406 Q53.6541 177.651 58.2375 173.022 Q62.8439 168.369 64.0245 167.026 Q66.2698 164.503 67.1494 162.767 Q68.0522 161.008 68.0522 159.318 Q68.0522 156.563 66.1078 154.827 Q64.1865 153.091 61.0847 153.091 Q58.8856 153.091 56.4319 153.855 Q54.0014 154.619 51.2236 156.17 L51.2236 151.448 Q54.0477 150.313 56.5014 149.735 Q58.955 149.156 60.9921 149.156 Q66.3624 149.156 69.5568 151.841 Q72.7513 154.526 72.7513 159.017 Q72.7513 161.147 71.9411 163.068 Q71.1541 164.966 69.0476 167.559 Q68.4689 168.23 65.367 171.448 Q62.2652 174.642 56.6171 180.406 Z\" fill=\"#000000\" fill-rule=\"evenodd\" fill-opacity=\"1\" /><path clip-path=\"url(#clip510)\" d=\"M92.7512 152.86 Q89.1401 152.86 87.3114 156.425 Q85.5058 159.966 85.5058 167.096 Q85.5058 174.202 87.3114 177.767 Q89.1401 181.309 92.7512 181.309 Q96.3854 181.309 98.1909 177.767 Q100.02 174.202 100.02 167.096 Q100.02 159.966 98.1909 156.425 Q96.3854 152.86 92.7512 152.86 M92.7512 149.156 Q98.5613 149.156 101.617 153.763 Q104.696 158.346 104.696 167.096 Q104.696 175.823 101.617 180.429 Q98.5613 185.012 92.7512 185.012 Q86.941 185.012 83.8623 180.429 Q80.8068 175.823 80.8068 167.096 Q80.8068 158.346 83.8623 153.763 Q86.941 149.156 92.7512 149.156 Z\" fill=\"#000000\" fill-rule=\"evenodd\" fill-opacity=\"1\" /><path clip-path=\"url(#clip510)\" d=\"M122.913 152.86 Q119.302 152.86 117.473 156.425 Q115.668 159.966 115.668 167.096 Q115.668 174.202 117.473 177.767 Q119.302 181.309 122.913 181.309 Q126.547 181.309 128.353 177.767 Q130.182 174.202 130.182 167.096 Q130.182 159.966 128.353 156.425 Q126.547 152.86 122.913 152.86 M122.913 149.156 Q128.723 149.156 131.779 153.763 Q134.857 158.346 134.857 167.096 Q134.857 175.823 131.779 180.429 Q128.723 185.012 122.913 185.012 Q117.103 185.012 114.024 180.429 Q110.969 175.823 110.969 167.096 Q110.969 158.346 114.024 153.763 Q117.103 149.156 122.913 149.156 Z\" fill=\"#000000\" fill-rule=\"evenodd\" fill-opacity=\"1\" /><path clip-path=\"url(#clip510)\" d=\"M153.075 152.86 Q149.464 152.86 147.635 156.425 Q145.83 159.966 145.83 167.096 Q145.83 174.202 147.635 177.767 Q149.464 181.309 153.075 181.309 Q156.709 181.309 158.515 177.767 Q160.343 174.202 160.343 167.096 Q160.343 159.966 158.515 156.425 Q156.709 152.86 153.075 152.86 M153.075 149.156 Q158.885 149.156 161.941 153.763 Q165.019 158.346 165.019 167.096 Q165.019 175.823 161.941 180.429 Q158.885 185.012 153.075 185.012 Q147.265 185.012 144.186 180.429 Q141.131 175.823 141.131 167.096 Q141.131 158.346 144.186 153.763 Q147.265 149.156 153.075 149.156 Z\" fill=\"#000000\" fill-rule=\"evenodd\" fill-opacity=\"1\" /><polyline clip-path=\"url(#clip512)\" style=\"stroke:#009af9; stroke-linecap:butt; stroke-linejoin:round; stroke-width:4; stroke-opacity:1; fill:none\" points=\"\n",
       "  261.917,1445.72 331.915,1445.72 401.913,1445.72 471.911,1445.72 541.909,1445.72 611.907,1445.72 681.905,1445.72 751.903,1445.72 821.901,1445.72 891.899,1445.72 \n",
       "  961.897,1445.72 1031.89,1445.72 1101.89,1445.72 1171.89,1445.72 1241.89,1445.72 1311.89,733.761 1381.88,87.9763 1451.88,1320.28 1521.88,1320.28 1591.88,1320.28 \n",
       "  1661.88,1320.28 1731.87,1320.28 1801.87,1320.28 1871.87,1320.28 1941.87,1320.28 2011.87,1320.28 2081.86,1320.28 2151.86,1320.28 2221.86,1320.28 2291.86,1320.28 \n",
       "  \n",
       "  \"/>\n",
       "<path clip-path=\"url(#clip510)\" d=\"\n",
       "M1989.52 198.898 L2281.03 198.898 L2281.03 95.2176 L1989.52 95.2176  Z\n",
       "  \" fill=\"#ffffff\" fill-rule=\"evenodd\" fill-opacity=\"1\"/>\n",
       "<polyline clip-path=\"url(#clip510)\" style=\"stroke:#000000; stroke-linecap:butt; stroke-linejoin:round; stroke-width:4; stroke-opacity:1; fill:none\" points=\"\n",
       "  1989.52,198.898 2281.03,198.898 2281.03,95.2176 1989.52,95.2176 1989.52,198.898 \n",
       "  \"/>\n",
       "<polyline clip-path=\"url(#clip510)\" style=\"stroke:#009af9; stroke-linecap:butt; stroke-linejoin:round; stroke-width:4; stroke-opacity:1; fill:none\" points=\"\n",
       "  2013.43,147.058 2156.88,147.058 \n",
       "  \"/>\n",
       "<path clip-path=\"url(#clip510)\" d=\"M2194.63 166.745 Q2192.82 171.375 2191.11 172.787 Q2189.4 174.199 2186.53 174.199 L2183.12 174.199 L2183.12 170.634 L2185.62 170.634 Q2187.38 170.634 2188.35 169.8 Q2189.33 168.967 2190.51 165.865 L2191.27 163.921 L2180.78 138.412 L2185.3 138.412 L2193.4 158.689 L2201.5 138.412 L2206.02 138.412 L2194.63 166.745 Z\" fill=\"#000000\" fill-rule=\"evenodd\" fill-opacity=\"1\" /><path clip-path=\"url(#clip510)\" d=\"M2213.31 160.402 L2220.95 160.402 L2220.95 134.037 L2212.64 135.703 L2212.64 131.444 L2220.9 129.778 L2225.58 129.778 L2225.58 160.402 L2233.21 160.402 L2233.21 164.338 L2213.31 164.338 L2213.31 160.402 Z\" fill=\"#000000\" fill-rule=\"evenodd\" fill-opacity=\"1\" /></svg>\n"
      ]
     },
     "execution_count": 37,
     "metadata": {},
     "output_type": "execute_result"
    }
   ],
   "source": [
    "plot(thist[1:end-1],nhist)"
   ]
  },
  {
   "cell_type": "code",
   "execution_count": 38,
   "id": "524d0eb7",
   "metadata": {},
   "outputs": [
    {
     "data": {
      "text/plain": [
       "8.219257315970218e-7"
      ]
     },
     "execution_count": 38,
     "metadata": {},
     "output_type": "execute_result"
    }
   ],
   "source": [
    "maximum(shist)"
   ]
  },
  {
   "cell_type": "code",
   "execution_count": null,
   "id": "89c35ed8",
   "metadata": {},
   "outputs": [],
   "source": []
  }
 ],
 "metadata": {
  "@webio": {
   "lastCommId": null,
   "lastKernelId": null
  },
  "kernelspec": {
   "display_name": "Julia 1.6.4",
   "language": "julia",
   "name": "julia-1.6"
  },
  "language_info": {
   "file_extension": ".jl",
   "mimetype": "application/julia",
   "name": "julia",
   "version": "1.6.4"
  }
 },
 "nbformat": 4,
 "nbformat_minor": 5
}
